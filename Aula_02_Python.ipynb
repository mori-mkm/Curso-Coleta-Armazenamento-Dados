{
  "nbformat": 4,
  "nbformat_minor": 0,
  "metadata": {
    "colab": {
      "provenance": [],
      "authorship_tag": "ABX9TyNJQPkp+apKjvnZ01CoLgKy",
      "include_colab_link": true
    },
    "kernelspec": {
      "name": "python3",
      "display_name": "Python 3"
    },
    "language_info": {
      "name": "python"
    }
  },
  "cells": [
    {
      "cell_type": "markdown",
      "metadata": {
        "id": "view-in-github",
        "colab_type": "text"
      },
      "source": [
        "<a href=\"https://colab.research.google.com/github/mori-mkm/Curso-Coleta-Armazenamento-Dados/blob/main/Aula_02_Python.ipynb\" target=\"_parent\"><img src=\"https://colab.research.google.com/assets/colab-badge.svg\" alt=\"Open In Colab\"/></a>"
      ]
    },
    {
      "cell_type": "markdown",
      "source": [
        "## <center>Introdução à Lógica de Programação</center>\n",
        "###  <center>Coleta e armazenamento de dados usando API e Web Scraping</center>\n",
        "---\n",
        "## <center>Aula 1. Conceitos básicos, listas, dicionarios e pandas</center>\n",
        "##### <center>Instrutor: <a href=\"https://www.linkedin.com/in/matheus-mori/\" target=\"_blank\">Matheus Mori</a></center>"
      ],
      "metadata": {
        "id": "qR-M6Hisb-_n"
      }
    },
    {
      "cell_type": "markdown",
      "source": [
        "#### Python é uma linguagem interpretada, ao contrário das linguagens compiladas, não é necessário traduzir as instruções para código de máquina (1s e 0s).\n",
        "\n",
        "#### Para poder executar o código escrito em python é necessário passar as instruções para um intérprete. Nos nossos cursos usaremos um ambiente de programação chamado **Google Colab**, um aplicativo da web que é executado localmente, onde o texto (como este!) pode ser apresentado e que oferece a possibilidade de executar código.\n",
        "\n",
        "#### O formato de entrada para o nosso código é uma célula e para executar as instruções que digitamos basta pressionar `Shift`+`Enter` enquanto estivermos na célula."
      ],
      "metadata": {
        "id": "8828aK2gdRvD"
      }
    },
    {
      "cell_type": "markdown",
      "source": [
        "### A função `print()`\n",
        "\n",
        "#### Para ver os valores que uma expressão ou alguma variável assume, vamos usar a função print dando como argumento um tipo de dado string."
      ],
      "metadata": {
        "id": "mePSHM4geelJ"
      }
    },
    {
      "cell_type": "code",
      "execution_count": null,
      "metadata": {
        "id": "DBnZVXUxbvlu"
      },
      "outputs": [],
      "source": [
        "print('Olá, mundo!')"
      ]
    },
    {
      "cell_type": "markdown",
      "source": [
        "### Tipos e estrutura de dados: inteiros (em python `int`), reais (`float`) e complexos (`complex`).\n",
        "\n",
        "#### A seguir, apresentamos tipos `type` de dados numéricos e algumas operações de exemplo."
      ],
      "metadata": {
        "id": "f1UQwYO6e56v"
      }
    },
    {
      "cell_type": "code",
      "source": [
        "print('O número 3 é:', type(3))\n",
        "\n",
        "print('O número 3.14 é:', type(3.14159))\n",
        "\n",
        "print('O número 3+2j é:', type(complex(3 + 2j)))"
      ],
      "metadata": {
        "id": "ca9dMaoye6XY"
      },
      "execution_count": null,
      "outputs": []
    },
    {
      "cell_type": "markdown",
      "source": [
        "### Algumas operações numéricas de caráter aritméticos podem ser:"
      ],
      "metadata": {
        "id": "PCmpJrWie9oC"
      }
    },
    {
      "cell_type": "markdown",
      "source": [
        "#### Adição de dois inteiros."
      ],
      "metadata": {
        "id": "JAu8rQ-IfI_7"
      }
    },
    {
      "cell_type": "code",
      "source": [
        "print(45 + 55)"
      ],
      "metadata": {
        "id": "mkl6TUZdfUaO"
      },
      "execution_count": null,
      "outputs": []
    },
    {
      "cell_type": "markdown",
      "source": [
        "#### Subtração."
      ],
      "metadata": {
        "id": "U6GQmfxTfL1Y"
      }
    },
    {
      "cell_type": "code",
      "source": [
        "print(50 - 100)"
      ],
      "metadata": {
        "id": "4VTGEMjPfU-K"
      },
      "execution_count": null,
      "outputs": []
    },
    {
      "cell_type": "markdown",
      "source": [
        "#### Divisão. "
      ],
      "metadata": {
        "id": "8kSoMIHCfNeh"
      }
    },
    {
      "cell_type": "code",
      "source": [
        "print(6 / 12)"
      ],
      "metadata": {
        "id": "9ZKGrkD-fVXx"
      },
      "execution_count": null,
      "outputs": []
    },
    {
      "cell_type": "markdown",
      "source": [
        "#### Divisão inteira."
      ],
      "metadata": {
        "id": "vFBcbW4efOHL"
      }
    },
    {
      "cell_type": "code",
      "source": [
        "print(6 // 12)"
      ],
      "metadata": {
        "id": "y9Jevv3kfV2_"
      },
      "execution_count": null,
      "outputs": []
    },
    {
      "cell_type": "markdown",
      "source": [
        "#### Multiplicação."
      ],
      "metadata": {
        "id": "Lxee4YiifQAn"
      }
    },
    {
      "cell_type": "code",
      "source": [
        "print(3 * 5)"
      ],
      "metadata": {
        "id": "SuBi_ksrfWPj"
      },
      "execution_count": null,
      "outputs": []
    },
    {
      "cell_type": "markdown",
      "source": [
        "#### Potenciação."
      ],
      "metadata": {
        "id": "W4j-U-1SfR5f"
      }
    },
    {
      "cell_type": "code",
      "source": [
        "print(3 ** 5)"
      ],
      "metadata": {
        "id": "mFSu8qygfFKA"
      },
      "execution_count": null,
      "outputs": []
    },
    {
      "cell_type": "markdown",
      "source": [
        "#### Para poder atribuir números ou resultados de operações a variáveis, o operador `=` é usado, o nome da variável deve começar com uma letra, e certos caracteres não podem ser usados para defini-las, como acentos ou espaços (invisíveis) dentro do nome."
      ],
      "metadata": {
        "id": "fHWVE9c_f3Wu"
      }
    },
    {
      "cell_type": "markdown",
      "source": [
        "#### Nota:\n",
        "\n",
        "#### Podemos ver que a primeira linha do exemplo a seguir...\n",
        "\n",
        "```python\n",
        "\n",
        "# atribuímos o valor 4 à variável num_1\n",
        "\n",
        "```\n",
        "\n",
        "#### ...é um comentário. Os comentários são úteis no sentido de que nos permitem fazer anotações no local em que uma tarefa é executada dentro do programa.\n",
        "\n",
        "\n",
        "#### Os comentários não são levados em conta como uma instrução, isso significa que o interpretador de python não os executa, como consequência eles só têm utilidade para as pessoas que veem as instruções.\n",
        "\n",
        "\n",
        "#### Para escrever um comentário, o símbolo numérico `#` deve ser preceder o texto e o texto deve ser de uma só linha. "
      ],
      "metadata": {
        "id": "-m568jSof58J"
      }
    },
    {
      "cell_type": "code",
      "source": [
        "# atribuímos o valor 4 à variável num_1\n",
        "num_1 = 4\n",
        "\n",
        "# atribuímos o valor 23 à variável num_2\n",
        "num_2 = 23\n",
        "\n",
        "# atribuímos o resultado de elevar num_1 à num_2\n",
        "resultado_potenciação = num_1 ** num_2\n",
        "\n",
        "# mostramos resultado\n",
        "print(resultado_potenciação)"
      ],
      "metadata": {
        "colab": {
          "base_uri": "https://localhost:8080/"
        },
        "id": "mErbgsHZf3As",
        "outputId": "12450ab3-dd61-45a5-ff7d-19a668bf8488"
      },
      "execution_count": null,
      "outputs": [
        {
          "output_type": "stream",
          "name": "stdout",
          "text": [
            "70368744177664\n"
          ]
        }
      ]
    },
    {
      "cell_type": "markdown",
      "source": [
        "#### Neste último exemplo podemos observar que, uma vez que atribuímos as magnitudes numéricas às variáveis, podemos operar com essas variáveis como se fossem um número."
      ],
      "metadata": {
        "id": "lAQ3z2T2f-DC"
      }
    },
    {
      "cell_type": "markdown",
      "source": [
        "#### Como poderíamos encontrar a raiz quadrada de `num1` (4), utilizando a operação de potenciação? Escreva-o em linguagem python na próxima célula e use print para mostrar o resultado:"
      ],
      "metadata": {
        "id": "ZivCGkbmgEFu"
      }
    },
    {
      "cell_type": "code",
      "source": [
        "num1 = 4"
      ],
      "metadata": {
        "id": "CxGCavSef8i7"
      },
      "execution_count": null,
      "outputs": []
    },
    {
      "cell_type": "markdown",
      "source": [
        "### Tipos e estrutura de dados: Texto `str`.\n",
        "\n",
        "#### O tipo de dado de texto é chamado de `string` em python. Pode ser enunciado colocando um conjunto de caracteres entre aspas (duplas ou simples). Durante o curso, vamos trabalhar com várias operações sobre esses dados orientados à sua matematização.\n",
        "\n",
        "#### As strings são iteráveis (podem ser acessadas por partes), cada caractere tem uma posição que pode ser acessada através de um índice. "
      ],
      "metadata": {
        "id": "9NVpimO2h_3r"
      }
    },
    {
      "cell_type": "markdown",
      "source": [
        "### Índice:\n",
        "\n",
        "#### Os índices são valores inteiros que, no texto, indicam a posição de um caractere dentro da string. São enunciados colocando o valor inteiro entre colchetes [] depois da string ou de uma variável que o represente. Os índices são contados a partir de zero."
      ],
      "metadata": {
        "id": "68ab28LsiCxN"
      }
    },
    {
      "cell_type": "code",
      "source": [
        "# Definimos uma variável de tipo string.\n",
        "text = 'Python3'\n",
        "\n",
        "# Acessamos a primeira e última posição dessa string.\n",
        "print(text[0], text[-1])"
      ],
      "metadata": {
        "colab": {
          "base_uri": "https://localhost:8080/"
        },
        "id": "nQLAr1qegGgc",
        "outputId": "11518ea3-4215-409d-9473-7df0366b2c6c"
      },
      "execution_count": null,
      "outputs": [
        {
          "output_type": "stream",
          "name": "stdout",
          "text": [
            "P 3\n"
          ]
        }
      ]
    },
    {
      "cell_type": "markdown",
      "source": [
        "#### A função `print()` pode usar vários argumentos, entre eles, estão os elementos que serão impressos na saída padrão. No último caso, imprimimos o primeiro e o último elemento da `string` text."
      ],
      "metadata": {
        "id": "o1wTXcxZiHTu"
      }
    },
    {
      "cell_type": "markdown",
      "source": [
        "### Sobre os índices negativos.\n",
        "\n",
        "#### Quando um índice é negativo, aponta para um elemento do final, isto é, o [-1] se torna o último elemento, o índice [-2] o penúltimo e assim por diante até o primeiro elemento do iterável.\n",
        "\n",
        "#### A seguir, um exemplo:"
      ],
      "metadata": {
        "id": "hhe_pGVPiI5c"
      }
    },
    {
      "cell_type": "code",
      "source": [
        "# Definimos uma variável do tipo string.\n",
        "text = 'Python3'\n",
        "\n",
        "# Acessamos o elemento 4 (Pyth(o)n3) a partir de índices positivos e negativos.\n",
        "print(text[4], text[-3])"
      ],
      "metadata": {
        "colab": {
          "base_uri": "https://localhost:8080/"
        },
        "id": "67LN58FuiERB",
        "outputId": "1181b47a-3391-43a8-c8ae-586a8a00555d"
      },
      "execution_count": null,
      "outputs": [
        {
          "output_type": "stream",
          "name": "stdout",
          "text": [
            "o o\n"
          ]
        }
      ]
    },
    {
      "cell_type": "markdown",
      "source": [
        "### Slicing.\n",
        "\n",
        "#### O slicing permite acessar partes contínuas da string com uma notação parecida com a dos índices. Eles também precisam ser magnitudes inteiras. Para fazer um slicing, os valores do índice devem ser dados entre colchetes, separados por dois pontos."
      ],
      "metadata": {
        "id": "WtMf7XSQiPi2"
      }
    },
    {
      "cell_type": "code",
      "source": [
        "# Definimos uma variável do tipo string.\n",
        "text = 'Python3 ou R?'\n",
        "\n",
        "# Entre colchetes definimos o primeiro e o último índice do sclicing.\n",
        "print(text[1:7])"
      ],
      "metadata": {
        "id": "VbTRk-yLiKYA"
      },
      "execution_count": null,
      "outputs": []
    },
    {
      "cell_type": "markdown",
      "source": [
        "#### O primeiro índice aponta para o primeiro caractere da primeira palavra (incluído no subtexto), enquanto o último caractere aponta para o último caractere da palavra (não incluído no subtexto)."
      ],
      "metadata": {
        "id": "dgxPVpCIiROE"
      }
    },
    {
      "cell_type": "code",
      "source": [
        "# Definimos uma variável do tipo string.\n",
        "text = 'Python3 ou R?'\n",
        "\n",
        "# Mostramos o elemento 7 do texto, que não é mostrado no slicing anterior.\n",
        "print(text[7])"
      ],
      "metadata": {
        "id": "aFtQWh5WlPq1"
      },
      "execution_count": null,
      "outputs": []
    },
    {
      "cell_type": "markdown",
      "source": [
        "#### A seguir, imprimir a palavra central do texto utilizando slicing."
      ],
      "metadata": {
        "id": "taxiMLkblSHC"
      }
    },
    {
      "cell_type": "code",
      "source": [
        "# Definimos um texto\n",
        "text_2 = 'É uma string'\n",
        "\n",
        "# selecionar a palavra central com slicing\n",
        "text_2[2:5]"
      ],
      "metadata": {
        "id": "xfqSXB_olvJ2"
      },
      "execution_count": null,
      "outputs": []
    },
    {
      "cell_type": "markdown",
      "source": [
        "### Concatenação.\n",
        "\n",
        "#### conjuntos de caracteres podem ser concatenados utilizando, como vimos, o operador de soma."
      ],
      "metadata": {
        "id": "JD-IyHeGlwaH"
      }
    },
    {
      "cell_type": "code",
      "source": [
        "concatenação = 'Texto de' + \"exemplo\"\n",
        "print(concatenação)"
      ],
      "metadata": {
        "id": "uGz_98melyXe"
      },
      "execution_count": null,
      "outputs": []
    },
    {
      "cell_type": "markdown",
      "source": [
        "#### Podemos observar que a operação:\n",
        "\n",
        "* Concatena as duas `strings` em uma maior.\n",
        "* Não adiciona espaço entre operandos.\n",
        "* Conserva a ordem de esquerda a direita.\n"
      ],
      "metadata": {
        "id": "gSQLFwFRl0Nr"
      }
    },
    {
      "cell_type": "markdown",
      "source": [
        "#### Como havíamos mencionado, os tipos de dados trazem operações associadas - essas operações são conhecidas como métodos. Os métodos são um conjunto de instruções associadas aos tipos de dados que podem fazer alterações neles ou operações que resultem no retorno de algum resultado em outro tipo de dados."
      ],
      "metadata": {
        "id": "L37MpggRl4_l"
      }
    },
    {
      "cell_type": "markdown",
      "source": [
        "### Método `.isdigit()`.\n",
        "\n",
        "#### Este método retorna um tipo de dado booleano (verdadeiro ou falso). É verdadeiro quando a string associada pode ser representada como um inteiro e falso, caso contrário. Este método pode servir para decidir se uma string pode ser transformada em um número inteiro."
      ],
      "metadata": {
        "id": "lra64SMgl6Ec"
      }
    },
    {
      "cell_type": "code",
      "source": [
        "inteiro = '231' \n",
        "inteiro.isdigit()"
      ],
      "metadata": {
        "id": "T3mdxx56l2qS"
      },
      "execution_count": null,
      "outputs": []
    },
    {
      "cell_type": "markdown",
      "source": [
        "#### Como podemos ver, a chamada para os métodos é precedida por dois parênteses. A razão será comentada mais à frente, em definição de funções."
      ],
      "metadata": {
        "id": "IwxcUL8togsK"
      }
    },
    {
      "cell_type": "code",
      "source": [
        "no_inteiro = '3.14'\n",
        "no_inteiro.isdigit()"
      ],
      "metadata": {
        "id": "tZF68unKogZl"
      },
      "execution_count": null,
      "outputs": []
    },
    {
      "cell_type": "markdown",
      "source": [
        "### Método `.split()`.\n",
        "\n",
        "#### Esse método associado a `strings` serve para separar um texto em subtextos menores. O resultado da separação é retornado em uma lista."
      ],
      "metadata": {
        "id": "3L8qcnweokmO"
      }
    },
    {
      "cell_type": "code",
      "source": [
        "# Fazemos um chamado ao split diretamente de uma string\n",
        "lista = 'um dois três quatro'.split()\n",
        "lista"
      ],
      "metadata": {
        "id": "v6T_g_aXolrD"
      },
      "execution_count": null,
      "outputs": []
    },
    {
      "cell_type": "code",
      "source": [
        "# Guardamos uma string em uma variável\n",
        "números = 'um dois três quatro'\n",
        "\n",
        "#separamos o conteúdo da variável com o método split\n",
        "números.split()"
      ],
      "metadata": {
        "id": "E8ud9060om86"
      },
      "execution_count": null,
      "outputs": []
    },
    {
      "cell_type": "markdown",
      "source": [
        "### Proposta prática:  \n",
        "\n",
        "#### A seguir, veremos parte de um código que, a partir de uma lista de números aleatórios, retorna outra lista com números pares."
      ],
      "metadata": {
        "id": "toRQu63JrrDX"
      }
    },
    {
      "cell_type": "code",
      "source": [
        "# inicializamos uma lista com números.\n",
        "lista_números = [2, 3, 1, 8, -2, 3.14259, -1, 0, 6, 7, 9]\n",
        "# inicializamos uma lista vazia.\n",
        "lista_pares = []\n",
        "\n",
        "# percorremos a lista.\n",
        "for número in lista_números:\n",
        "    #vemos se o número da lista é par.\n",
        "    if número % 2 == 0:\n",
        "        # inserimos no final da lista se for par\n",
        "        lista_pares.append(número)\n",
        "        print(número, 'é par')\n",
        "    elif número < 0:\n",
        "        print(número, 'negativo e não par')\n",
        "    \n",
        "    else:\n",
        "        print(número, 'não é par nem ímpar negativo')\n",
        "\n",
        "lista_pares      "
      ],
      "metadata": {
        "id": "hazOBhYVrrwF"
      },
      "execution_count": null,
      "outputs": []
    },
    {
      "cell_type": "code",
      "source": [
        "print(lista_pares)"
      ],
      "metadata": {
        "id": "iQigzpG6rvgm"
      },
      "execution_count": null,
      "outputs": []
    },
    {
      "cell_type": "markdown",
      "source": [
        "### Tipos e estrutura de dados: Listas `list`."
      ],
      "metadata": {
        "id": "q0ryDEy5rxpl"
      }
    },
    {
      "cell_type": "markdown",
      "source": [
        "#### As listas são estruturas de dados muito usadas em python. Nelas podemos depositar uma grande quantidade de dados: números, palavras, outras listas, etc.\n",
        "\n",
        "#### Na nossa proposta prática, podemos ver que trabalhamos com duas listas:\n",
        "\n",
        "``` python\n",
        "# inicializamos uma lista com números.\n",
        "lista_números = [2, 3, 1, 8, -2, 3.14259, -1, 0, 6, 7, 9]\n",
        "# inicializamos uma lista vazia.\n",
        "lista_pares = []\n",
        "```\n",
        "\n",
        "#### Na primeira lista, decidimos definir seus membros como números. Outros tipos de dados podem estar contidos nas listas. Também podemos ver que para definir uma lista não é necessário ter elementos. Em `lista_pares` por exemplo, você pode ver que ela está vazia.\n",
        "\n",
        "#### Uma das motivações para gerar listas vazias é a de poder ser preenchida de acordo com os condicionais que definiremos em nossos programas."
      ],
      "metadata": {
        "id": "gzZREPj6rzIO"
      }
    },
    {
      "cell_type": "markdown",
      "source": [
        "### Método `.append()`.\n",
        "\n",
        "#### Permite adicionar um elemento no final de uma lista. É importante ressaltar que o elemento persiste dentro da lista, uma vez que é adicionado por este método."
      ],
      "metadata": {
        "id": "tPw1yFedr1O7"
      }
    },
    {
      "cell_type": "code",
      "source": [
        "# Inicializamos uma lista vazia.\n",
        "lista_teste = []\n",
        "\n",
        "# Imprimimos a lista para ver como é.\n",
        "print(lista_teste)"
      ],
      "metadata": {
        "id": "DsrtK3QLr3hM"
      },
      "execution_count": null,
      "outputs": []
    },
    {
      "cell_type": "code",
      "source": [
        "# Agora adicionamos um elemento à lista com append.\n",
        "lista_teste.append('sou uma string')\n",
        "\n",
        "# Imprimimos a lista\n",
        "print(lista_teste)"
      ],
      "metadata": {
        "id": "z8BCDmySr4rg"
      },
      "execution_count": null,
      "outputs": []
    },
    {
      "cell_type": "markdown",
      "source": [
        "#### Podemos ver que o que foi adicionado à lista pelo `.append()` foi indicado ao colocar esse elemento entre os parênteses na chamada de método. \n",
        "\n",
        "#### O que aparece entre parênteses após a chamada de método é conhecido como argumento e, neste caso, o argumento para o método `.append()`,  é o elemento que será inserido no final da lista."
      ],
      "metadata": {
        "id": "sfVJIwekr7AS"
      }
    },
    {
      "cell_type": "code",
      "source": [
        "# Adicionamos outro elemento à lista.\n",
        "lista_teste.append(23)\n",
        "\n",
        "# Mostramos o estado da lista até esse ponto.\n",
        "lista_teste"
      ],
      "metadata": {
        "id": "2pUijUAXr8PG"
      },
      "execution_count": null,
      "outputs": []
    },
    {
      "cell_type": "markdown",
      "source": [
        "#### Ao contrário de outras linguagens, em python, uma lista pode conter, simultaneamente, vários tipos de dados."
      ],
      "metadata": {
        "id": "IGGioWb5r-Hu"
      }
    },
    {
      "cell_type": "markdown",
      "source": [
        "### Iteração `for`.\n",
        "\n",
        "#### O poder dos programas está na capacidade de executar um conjunto de instruções repetidamente ao percorrer uma estrutura ou tipo de dados. Chamamos isso de \"iteração\". No nosso exemplo podemos ver uma dessas iterações:\n",
        "\n",
        "```python\n",
        "for número in lista_números:\n",
        "```\n",
        "#### A sintaxe para usar o iterador \"for\" em nosso exemplo tem basicamente 5 partes:\n",
        "\n",
        "    1) A chamada para `for`.\n",
        "    2) A definição de uma variável que representa cada elemento dentro dos membros que percorremos.\n",
        "    3) A chamada a `in`, que indica o que vamos percorrer.\n",
        "    4) A estrutura ou dado sobre a qual vamos iterar.\n",
        "    5) Os dois pontos que indicam que o corpo de instruções começa.\n",
        "\n",
        "#### A partir daqui, tudo que estiver dentro do ciclo será repetido enquanto a lista estiver sendo percorrida.\n",
        "\n",
        "```python\n",
        "# percorremos a lista.\n",
        "for número in lista_números:\n",
        "    #vemos se o número da lista é par.\n",
        "    if número % 2 == 0:\n",
        "        # inserimos no final da lista se for par\n",
        "        lista_pares.append(número)\n",
        "```\n",
        "#### É importante ressaltar que o uso de espaços tem um significado para o interpretador de python. No nosso exemplo podemos notar que as instruções dentro do for têm pelo menos 4 espaços antes de serem escritas - isso em python é chamado de indentação."
      ],
      "metadata": {
        "id": "SMgLfEvPr_rA"
      }
    },
    {
      "cell_type": "code",
      "source": [
        "lista_números = [-9, -8, -7, -6, -5, -4, -3, -2, -1 , 0, 1, 2, 3, 4, 5, 6, 7, 8, 9]\n",
        "lista_pares = []\n",
        "# percorremos a lista.\n",
        "for número in lista_números:\n",
        "    #vemos se o número da lista é par.\n",
        "    if número % 2 == 0:\n",
        "        # inserimos no final da lista se for par\n",
        "        lista_pares.append(número)\n",
        "print(lista_pares)        "
      ],
      "metadata": {
        "id": "wABJGoQKsC_A"
      },
      "execution_count": null,
      "outputs": []
    },
    {
      "cell_type": "markdown",
      "source": [
        "### Iteração `while`.\n",
        "\n",
        "#### A iteração `while` ocorre desde a inicialização de um objeto até o momento em que uma condição é alcançada, nesse momento a ação para ou outra ação passa a ser tomada."
      ],
      "metadata": {
        "id": "QyuG0dcdsBs9"
      }
    },
    {
      "cell_type": "code",
      "source": [
        "count = 0\n",
        "while (count < 3):\n",
        "    print(count)\n",
        "    count = count + 1"
      ],
      "metadata": {
        "id": "8S_cW0KasGB0"
      },
      "execution_count": null,
      "outputs": []
    },
    {
      "cell_type": "code",
      "source": [
        "count = 1\n",
        "while (count != 3 ):\n",
        "    count = count + 1\n",
        "    print(count ** 2) "
      ],
      "metadata": {
        "id": "Px7Aha1CsHW4"
      },
      "execution_count": null,
      "outputs": []
    },
    {
      "cell_type": "markdown",
      "source": [
        "### Condicionais if, elif, else.\n",
        "\n",
        "#### O condicional `if` permite realizar um conjunto de possíveis operações através da formulação de uma pergunta em termos de expressões que possam ser verdadeiras ou falsas. Estas operações são chamadas de operações \"booleanas\"."
      ],
      "metadata": {
        "id": "oi5hAAjwsKPJ"
      }
    },
    {
      "cell_type": "markdown",
      "source": [
        "#### A seguir, damos alguns exemplos das perguntas que resultam em um booleano:"
      ],
      "metadata": {
        "id": "fKrX0O37sMqw"
      }
    },
    {
      "cell_type": "code",
      "source": [
        "# Um número é igual a outro número?\n",
        "2 == 1"
      ],
      "metadata": {
        "id": "kAc39mzisJGY"
      },
      "execution_count": null,
      "outputs": []
    },
    {
      "cell_type": "code",
      "source": [
        "# Um número é maior do que outro número?\n",
        "print( 23 > -11 )"
      ],
      "metadata": {
        "id": "b2roCdq_sSCU"
      },
      "execution_count": null,
      "outputs": []
    },
    {
      "cell_type": "code",
      "source": [
        "# Um tipo de dado é igual a outro?\n",
        "#isinstance([1,2,3], list)\n",
        "#isinstance(1, int)\n",
        "isinstance(1.0, float)"
      ],
      "metadata": {
        "id": "UGKxLvIqsTH8"
      },
      "execution_count": null,
      "outputs": []
    },
    {
      "cell_type": "code",
      "source": [
        "# O texto está contido em outro texto?\n",
        "'dois' in 'tenho um texto aqui'"
      ],
      "metadata": {
        "id": "k4lDy3QcsUIX"
      },
      "execution_count": null,
      "outputs": []
    },
    {
      "cell_type": "markdown",
      "source": [
        "#### Acabamos de ver algumas expressões cujo resultado é um booleano. Essas expressões podem ser avaliadas por um conjunto de condicionais."
      ],
      "metadata": {
        "id": "nwUDQcJNsWD-"
      }
    },
    {
      "cell_type": "markdown",
      "source": [
        "### Condicional `if`.\n",
        "\n",
        "#### Voltando ao nosso exemplo, vamos selecionar os dados que se encaixam em algumas propriedades que pedimos. Para isso, usamos o condicional `if`. Esse condicional nos permite tomar uma decisão com relação a uma condição dentro do programa, e pode ser enunciado dessa forma:\n",
        "\n",
        "```python\n",
        "if número % 2 == 0:\n",
        "    # inserimos no final da lista se for par\n",
        "    lista_pares.append(número)\n",
        "    \n",
        "elif número < 0:\n",
        "        print(número, 'negativo e não par')\n",
        "    \n",
        "else:\n",
        "    print(número, 'não é par nem ímpar negativo')\n",
        "\n",
        "```\n",
        "#### A sintaxe para o `if` possui três partes:\n",
        "           \n",
        "    1) A chamada ao `if`.\n",
        "    2) Uma condição (que pode ser verdadeira ou falsa).\n",
        "    3) Os dois pontos que indicam que o corpo de instruções começa.\n",
        "\n",
        "#### A condição pode assumir várias formas dependendo do que procuramos. No nosso programa, perguntamos: \n",
        "\n",
        "    A variável número: deixa um resto depois de ser dividida pelo número 2?\n",
        "\n",
        "#### Esta pergunta é feita através de uma sentença no python onde usamos a operação módulo `%` que nos indica se há um resto no quociente de dois números ordenados, e o operador `==` que indica se existe igualdade entre os dois lados.\n",
        "\n",
        "#### Se a igualdade `==` for verdadeira, a instrução do corpo do `if` é seguida. Se a condição for falsa, as instruções do `if` são ignoradas.\n",
        "\n",
        "#### Assim como o `for`, o corpo do `if` é definido como as instruções depois dos dois pontos que estão a 4 espaços da chamada ao `if` (indentação). \n",
        "\n",
        "### Condicional `elif`.\n",
        "\n",
        "#### Quando o condicional `if` é avaliado como `False`, é possível avaliar outra condição relacionada com o primeiro `if`. No exemplo, usamos o condicional `elif`, cujo corpo é executado quando o primeiro `if` foi avaliado como `False` e a sentença enunciada depois do **elif** é *True*, ou seja, quando o número não é par (**if** avaliado como `False`) e quando o número é menor do que zero (`elif` avaliado como `True`).\n",
        "\n",
        "### Condicional `else`.\n",
        "\n",
        "#### Quando o condicional `if` é avaliado como `False` e não existem condicionais `elif`, ou eles são todos avaliados como `False`, então se executa o corpo do condicional `else`, se este for definido. No exemplo, quando o número não é par (`if` avaliado como `False`) e quando o número não é menor do que zero (único `elif` avaliado como `False`).\n",
        "\n",
        "#### Exemplo sintético:\n",
        "\n",
        "```python\n",
        "if condição_1 :\n",
        "    'código a executar se a condição_1 for verdadeira'\n",
        "\n",
        "elif condição_2:\n",
        "    'código a executar se a condição_1 for falsa e a condição_2 verdadeira'\n",
        "       \n",
        "else:\n",
        "    'código a executar se todas as condições anteriores forem falsas'\n",
        "\n",
        "```"
      ],
      "metadata": {
        "id": "K80yA4C4sWxy"
      }
    },
    {
      "cell_type": "markdown",
      "source": [
        "### Definindo funções: `def`, `return`.\n",
        "\n",
        "#### As funções são um conjunto de instruções executadas através de um nome ou alias. A ideia da definição de funções é separar o problema a ser resolvido em partes menores.\n",
        "\n",
        "#### Para definir uma função é preciso seguir, no mínimo, esses passos:\n",
        "       \n",
        "    * Realizar uma chamada à instrução `def`\n",
        "    * Enunciar o nome da função \n",
        "    * Escrever parênteses\n",
        "    * Declarar, se existirem, os argumentos dentro dos parênteses, separados por vírgulas. (opcional)\n",
        "    * Escrever dois pontos.\n",
        "    * Escrever o corpo da função.\n",
        "    * Retornar um resultado com return (opcional).\n",
        "       \n",
        "#### A seguir, um exemplo de declaração de uma função:\n",
        "\n",
        "``` python \n",
        "def myFunction(argumento_1, argumento_2, ...):\n",
        "    \n",
        "    if argumento_1 > argumento_2:\n",
        "        \n",
        "        print(argumento_1, ' é maior que ', argumento_2)\n",
        "    \n",
        "    else:\n",
        "        print(argumento_1, ' não é maior que ', argumento_2)\n",
        "    \n",
        "    return(argumento_1 + argumento_2)\n",
        "\n",
        "```\n",
        "\n",
        "#### Os argumentos são variáveis que existirão no espaço de definição de uma função.\n",
        "\n",
        "#### Neste exemplo, podemos ver que os argumentos são avaliados pelos condicionais `if`/ `else` e que a soma de ambos argumentos é finalmente retornada.\n",
        "\n",
        "#### Se a expressão retornada pelo return for um tipo de dados válido, então podemos trabalhar com esse dado. Vejamos este exemplo.\n",
        "\n",
        "### Definimos a função anterior:"
      ],
      "metadata": {
        "id": "tW6x5O60saRN"
      }
    },
    {
      "cell_type": "code",
      "source": [
        "def minhafunção(argumento_1, argumento_2):\n",
        "\n",
        "    if argumento_1 > argumento_2:\n",
        "        pass \n",
        "        #print(argumento_1, ' é maior que ', argumento_2)\n",
        "\n",
        "    else:\n",
        "        pass\n",
        "        #print(argumento_1, ' não é maior que ', argumento_2)\n",
        "\n",
        "    return(argumento_1 + argumento_2)\n",
        "\n",
        "minhafunção(-1, 3)"
      ],
      "metadata": {
        "id": "QCGrYyhvsb6p"
      },
      "execution_count": null,
      "outputs": []
    },
    {
      "cell_type": "markdown",
      "source": [
        "#### Agora a função está no espaço de memória sob o nome de `minhafunção`. Para fazer uma chamada a essa função para que o código dentro dela seja executado, basta enunciar seu nome e entregar os argumentos entre parênteses de forma organizada."
      ],
      "metadata": {
        "id": "-LQ2GawtsI12"
      }
    },
    {
      "cell_type": "code",
      "source": [
        "# Vamos atribuir o valor do resultado desta função a uma variável.\n",
        "variável_1 = minhafunção(3, 5)\n",
        "#variável_1 = minhafunção(argumento_1, argumento_2)\n",
        "variável_1"
      ],
      "metadata": {
        "id": "F0DikOJqsfg4"
      },
      "execution_count": null,
      "outputs": []
    },
    {
      "cell_type": "code",
      "source": [
        "# Agora vejamos o que restou na variável_1\n",
        "print(variável_1)"
      ],
      "metadata": {
        "id": "P1KL_RmYsg14"
      },
      "execution_count": null,
      "outputs": []
    },
    {
      "cell_type": "markdown",
      "source": [
        "#### Como podemos ver na função, há chamadas ao print, que imprimem dependendo da avaliação do `if`/`else` o que indicamos em cada corpo condicional, porém o valor que é capturado para operar é o que retorna a instrução `return`."
      ],
      "metadata": {
        "id": "64sifSgms6Bt"
      }
    },
    {
      "cell_type": "markdown",
      "source": [
        "#### O que o código a seguir faz?"
      ],
      "metadata": {
        "id": "L5fnGQEVs8Ys"
      }
    },
    {
      "cell_type": "code",
      "source": [
        "lista_de_números = [-1, -51, -4, 42, 23, 4, 5, 6, 72, 4, 5]"
      ],
      "metadata": {
        "id": "PHrX93ffs5g-"
      },
      "execution_count": null,
      "outputs": []
    },
    {
      "cell_type": "code",
      "source": [
        "somas = []\n",
        "\n",
        "for número in lista_de_números:\n",
        "    \n",
        "    somas.append( minhafunção(8, número + 3) )\n",
        "somas    "
      ],
      "metadata": {
        "id": "FDu3Hqmas-Tw"
      },
      "execution_count": null,
      "outputs": []
    },
    {
      "cell_type": "markdown",
      "source": [
        "#### E o próximo?"
      ],
      "metadata": {
        "id": "tYafR9GMtAis"
      }
    },
    {
      "cell_type": "code",
      "source": [
        "somas = []\n",
        "\n",
        "for número in lista_de_números:\n",
        "    if minhafunção(número, 3) < número:\n",
        "        somas.append(número)\n",
        "    \n",
        "    else:\n",
        "        somas.append( minhafunção(número, 2) ** minhafunção(minhafunção(número, -31), 3) )"
      ],
      "metadata": {
        "id": "OiUYwiGttBti"
      },
      "execution_count": null,
      "outputs": []
    },
    {
      "cell_type": "code",
      "source": [
        "print(somas)"
      ],
      "metadata": {
        "id": "EjKUyn1ptDLu"
      },
      "execution_count": null,
      "outputs": []
    },
    {
      "cell_type": "code",
      "source": [
        "world = 'computer' \n",
        "for i in world:\n",
        "    print(i)"
      ],
      "metadata": {
        "id": "reLPXuhwtEWu"
      },
      "execution_count": null,
      "outputs": []
    },
    {
      "cell_type": "code",
      "source": [
        "replys = []\n",
        "while True:\n",
        "    reply = input('Enter text, [type \"stop\" to quit]: ')\n",
        "    print(reply)\n",
        "    if reply == 'stop' or reply == ' ':\n",
        "        print(\" \".join(replys))\n",
        "        break\n",
        "        replys.append(replys)          "
      ],
      "metadata": {
        "id": "JWfWA0sVtFli"
      },
      "execution_count": null,
      "outputs": []
    },
    {
      "cell_type": "markdown",
      "source": [
        "# Seleção e indexação de dados em Pandas"
      ],
      "metadata": {
        "id": "5m-r8k7rj_S0"
      }
    },
    {
      "cell_type": "markdown",
      "source": [
        "Vamos lembrar algumas formas típicas de acessar os arrays:      \n",
        "  1. indexing: `arr[2,1]`\n",
        "  2. slicing: `arr[:,1:10]`\n",
        "  3. boolean indexing: `arr[arr>0]`\n",
        "  4. fancy indexing: `arr[[1,7,9],:]`\n",
        "  \n",
        "As `Series` e `DataFrames` de Pandas seguem convenções similares.         "
      ],
      "metadata": {
        "id": "5sI5PxahkH6K"
      }
    },
    {
      "cell_type": "markdown",
      "source": [
        "## Seleção de dados em Series."
      ],
      "metadata": {
        "id": "NRsQHCh_kKa5"
      }
    },
    {
      "cell_type": "markdown",
      "source": [
        "* Se lembrarmos que uma `Series` é análoga a um array de uma dimensão e a um dicionário, isso nos permitirá reter melhor a maneira de selecionar os dados.  "
      ],
      "metadata": {
        "id": "MYr_eefAkL8q"
      }
    },
    {
      "cell_type": "markdown",
      "source": [
        "### `Series` como um dicionário.\n",
        "\n",
        "* Indexar por nomes ( = chaves em dicionários )."
      ],
      "metadata": {
        "id": "2oJ4rB6PkN3M"
      }
    },
    {
      "cell_type": "code",
      "source": [
        "import pandas as pd\n",
        "data = pd.Series([0.25, 0.5, 0.75, 1.0],index = ['a', 'b', 'c', 'd'])\n",
        "data"
      ],
      "metadata": {
        "colab": {
          "base_uri": "https://localhost:8080/"
        },
        "id": "kgpau0w9j_oZ",
        "outputId": "7a848c8d-44de-44bf-b80d-a167e4b9cd2c"
      },
      "execution_count": 1,
      "outputs": [
        {
          "output_type": "execute_result",
          "data": {
            "text/plain": [
              "a    0.25\n",
              "b    0.50\n",
              "c    0.75\n",
              "d    1.00\n",
              "dtype: float64"
            ]
          },
          "metadata": {},
          "execution_count": 1
        }
      ]
    },
    {
      "cell_type": "markdown",
      "source": [
        "* Imprimindo os índices `a` e `b`."
      ],
      "metadata": {
        "id": "zt8yXG68kSBx"
      }
    },
    {
      "cell_type": "code",
      "source": [
        "data['a':'b']"
      ],
      "metadata": {
        "colab": {
          "base_uri": "https://localhost:8080/"
        },
        "id": "2axPLhwekPU5",
        "outputId": "7126d426-d40f-4f7b-c0cc-601148f7b90a"
      },
      "execution_count": 2,
      "outputs": [
        {
          "output_type": "execute_result",
          "data": {
            "text/plain": [
              "a    0.25\n",
              "b    0.50\n",
              "dtype: float64"
            ]
          },
          "metadata": {},
          "execution_count": 2
        }
      ]
    },
    {
      "cell_type": "markdown",
      "source": [
        "* Podemos usar expressões semelhantes aos `dicts` para examinar chaves e valores."
      ],
      "metadata": {
        "id": "Nmmz8kTjkWl_"
      }
    },
    {
      "cell_type": "code",
      "source": [
        "'b' in data"
      ],
      "metadata": {
        "colab": {
          "base_uri": "https://localhost:8080/"
        },
        "id": "2_NGdRZNkUBc",
        "outputId": "154020e9-480b-4618-d071-e031019d7912"
      },
      "execution_count": 3,
      "outputs": [
        {
          "output_type": "execute_result",
          "data": {
            "text/plain": [
              "True"
            ]
          },
          "metadata": {},
          "execution_count": 3
        }
      ]
    },
    {
      "cell_type": "code",
      "source": [
        "'b' in data.index"
      ],
      "metadata": {
        "colab": {
          "base_uri": "https://localhost:8080/"
        },
        "id": "Fig6ToXhkZiN",
        "outputId": "fb1423da-14a1-4d58-8561-ebc37a782a2a"
      },
      "execution_count": 4,
      "outputs": [
        {
          "output_type": "execute_result",
          "data": {
            "text/plain": [
              "True"
            ]
          },
          "metadata": {},
          "execution_count": 4
        }
      ]
    },
    {
      "cell_type": "code",
      "source": [
        "0.25 in data"
      ],
      "metadata": {
        "colab": {
          "base_uri": "https://localhost:8080/"
        },
        "id": "OvsrkXMhkZ1F",
        "outputId": "b4a13252-9b10-47e7-d32f-1f77f0a216d6"
      },
      "execution_count": 5,
      "outputs": [
        {
          "output_type": "execute_result",
          "data": {
            "text/plain": [
              "False"
            ]
          },
          "metadata": {},
          "execution_count": 5
        }
      ]
    },
    {
      "cell_type": "code",
      "source": [
        "0.25 in data.values"
      ],
      "metadata": {
        "colab": {
          "base_uri": "https://localhost:8080/"
        },
        "id": "YopbPdNZkbIF",
        "outputId": "1f8d850a-802c-4dc1-e471-8b6a4d31abdb"
      },
      "execution_count": 6,
      "outputs": [
        {
          "output_type": "execute_result",
          "data": {
            "text/plain": [
              "True"
            ]
          },
          "metadata": {},
          "execution_count": 6
        }
      ]
    },
    {
      "cell_type": "code",
      "source": [
        "0.25 in data.index"
      ],
      "metadata": {
        "colab": {
          "base_uri": "https://localhost:8080/"
        },
        "id": "g3pGM7uPkcfK",
        "outputId": "cd9ba769-0eb6-4b4e-96b7-3d7a408ca709"
      },
      "execution_count": 7,
      "outputs": [
        {
          "output_type": "execute_result",
          "data": {
            "text/plain": [
              "False"
            ]
          },
          "metadata": {},
          "execution_count": 7
        }
      ]
    },
    {
      "cell_type": "markdown",
      "source": [
        "* As chaves do dicionário:"
      ],
      "metadata": {
        "id": "rH3MHNWXkfUx"
      }
    },
    {
      "cell_type": "code",
      "source": [
        "data.index"
      ],
      "metadata": {
        "colab": {
          "base_uri": "https://localhost:8080/"
        },
        "id": "gpWM1Yv-kdZh",
        "outputId": "dab0188e-e126-4ee1-d5ac-d2882c950c6a"
      },
      "execution_count": 8,
      "outputs": [
        {
          "output_type": "execute_result",
          "data": {
            "text/plain": [
              "Index(['a', 'b', 'c', 'd'], dtype='object')"
            ]
          },
          "metadata": {},
          "execution_count": 8
        }
      ]
    },
    {
      "cell_type": "code",
      "source": [
        "data.keys()"
      ],
      "metadata": {
        "colab": {
          "base_uri": "https://localhost:8080/"
        },
        "id": "uJI18-4ukglq",
        "outputId": "39143933-9a1a-40b1-e93e-1cfda1bd5830"
      },
      "execution_count": 9,
      "outputs": [
        {
          "output_type": "execute_result",
          "data": {
            "text/plain": [
              "Index(['a', 'b', 'c', 'd'], dtype='object')"
            ]
          },
          "metadata": {},
          "execution_count": 9
        }
      ]
    },
    {
      "cell_type": "markdown",
      "source": [
        "* Os pares chave-valor que formam cada item:"
      ],
      "metadata": {
        "id": "6CjNn8XZkkNR"
      }
    },
    {
      "cell_type": "code",
      "source": [
        "list(data.items())"
      ],
      "metadata": {
        "colab": {
          "base_uri": "https://localhost:8080/"
        },
        "id": "sfVrU05jkhkp",
        "outputId": "1a8f5931-33cc-4231-e986-d6c8032457e4"
      },
      "execution_count": 10,
      "outputs": [
        {
          "output_type": "execute_result",
          "data": {
            "text/plain": [
              "[('a', 0.25), ('b', 0.5), ('c', 0.75), ('d', 1.0)]"
            ]
          },
          "metadata": {},
          "execution_count": 10
        }
      ]
    },
    {
      "cell_type": "markdown",
      "source": [
        "* Como em um `dict`, podemos estender uma `Series` definindo uma nova chave e atribuindo a ela um novo valor."
      ],
      "metadata": {
        "id": "7nc99Yvnkmh3"
      }
    },
    {
      "cell_type": "code",
      "source": [
        "data['a'] = 0\n",
        "data['e'] = 1.25\n",
        "data"
      ],
      "metadata": {
        "colab": {
          "base_uri": "https://localhost:8080/"
        },
        "id": "h8cmURZhklV-",
        "outputId": "2222859b-9662-4869-f59d-d0528962b9c8"
      },
      "execution_count": 11,
      "outputs": [
        {
          "output_type": "execute_result",
          "data": {
            "text/plain": [
              "a    0.00\n",
              "b    0.50\n",
              "c    0.75\n",
              "d    1.00\n",
              "e    1.25\n",
              "dtype: float64"
            ]
          },
          "metadata": {},
          "execution_count": 11
        }
      ]
    },
    {
      "cell_type": "markdown",
      "source": [
        "### `Series` como um arranjo de uma dimensão.\n",
        "\n",
        "* Uma `Series` fornece uma maneira de selecionar dados análoga aos arranjos: é por isso que podemos usar slices, masking e fancy indexing."
      ],
      "metadata": {
        "id": "R2pidwNckpjj"
      }
    },
    {
      "cell_type": "markdown",
      "source": [
        "* Começando com um slicing explícito."
      ],
      "metadata": {
        "id": "FdcrbOY2kr3n"
      }
    },
    {
      "cell_type": "code",
      "source": [
        "data['a':'c']"
      ],
      "metadata": {
        "colab": {
          "base_uri": "https://localhost:8080/"
        },
        "id": "cxzn0oIJkoAe",
        "outputId": "73f577b7-164a-4fac-c2e6-a2ccb819764f"
      },
      "execution_count": 12,
      "outputs": [
        {
          "output_type": "execute_result",
          "data": {
            "text/plain": [
              "a    0.00\n",
              "b    0.50\n",
              "c    0.75\n",
              "dtype: float64"
            ]
          },
          "metadata": {},
          "execution_count": 12
        }
      ]
    },
    {
      "cell_type": "markdown",
      "source": [
        "* Podemos também realizar um slice implícito, considerando as posições relevantes."
      ],
      "metadata": {
        "id": "IJDCI3-iku_r"
      }
    },
    {
      "cell_type": "code",
      "source": [
        "data[0:2]"
      ],
      "metadata": {
        "colab": {
          "base_uri": "https://localhost:8080/"
        },
        "id": "qAgvvS0qktbR",
        "outputId": "5bf5b5ee-2491-4c62-c50f-cce2577da371"
      },
      "execution_count": 13,
      "outputs": [
        {
          "output_type": "execute_result",
          "data": {
            "text/plain": [
              "a    0.0\n",
              "b    0.5\n",
              "dtype: float64"
            ]
          },
          "metadata": {},
          "execution_count": 13
        }
      ]
    },
    {
      "cell_type": "markdown",
      "source": [
        "* Note no exemplo acima que o slicing numérico exclui o valor final, enquanto que o slicing por chave não"
      ],
      "metadata": {
        "id": "VE6lH3ACkx1i"
      }
    },
    {
      "cell_type": "markdown",
      "source": [
        "* Uma máscara booleana também pode ser aplicada."
      ],
      "metadata": {
        "id": "RklfVIHMky2A"
      }
    },
    {
      "cell_type": "code",
      "source": [
        "data+0.3"
      ],
      "metadata": {
        "colab": {
          "base_uri": "https://localhost:8080/"
        },
        "id": "eDINhtdCkwYo",
        "outputId": "9e40e719-8839-417f-b579-43858be1d1a4"
      },
      "execution_count": 14,
      "outputs": [
        {
          "output_type": "execute_result",
          "data": {
            "text/plain": [
              "a    0.30\n",
              "b    0.80\n",
              "c    1.05\n",
              "d    1.30\n",
              "e    1.55\n",
              "dtype: float64"
            ]
          },
          "metadata": {},
          "execution_count": 14
        }
      ]
    },
    {
      "cell_type": "code",
      "source": [
        "(data > 0.3) & (data < 0.8)"
      ],
      "metadata": {
        "colab": {
          "base_uri": "https://localhost:8080/"
        },
        "id": "XDxlAdSJk1ll",
        "outputId": "2f3f1bfa-1e2f-4cb1-ecfc-724ca396ae34"
      },
      "execution_count": 15,
      "outputs": [
        {
          "output_type": "execute_result",
          "data": {
            "text/plain": [
              "a    False\n",
              "b     True\n",
              "c     True\n",
              "d    False\n",
              "e    False\n",
              "dtype: bool"
            ]
          },
          "metadata": {},
          "execution_count": 15
        }
      ]
    },
    {
      "cell_type": "code",
      "source": [
        "data[(data > 0.3) & (data < 0.8)]"
      ],
      "metadata": {
        "colab": {
          "base_uri": "https://localhost:8080/"
        },
        "id": "Vv1LrZ_Gk2rc",
        "outputId": "9e80dbe2-429d-4edb-d501-1b845a0821a2"
      },
      "execution_count": 16,
      "outputs": [
        {
          "output_type": "execute_result",
          "data": {
            "text/plain": [
              "b    0.50\n",
              "c    0.75\n",
              "dtype: float64"
            ]
          },
          "metadata": {},
          "execution_count": 16
        }
      ]
    },
    {
      "cell_type": "markdown",
      "source": [
        "* Note no exemplo acima que a condição é aplicada sobre os valores dos series, não sobre os indexes. Contudo, a operação lógica retorna o valor dos índices que, por sua vez, são passadas como parâmetros para o series."
      ],
      "metadata": {
        "id": "AVgBesjpk5Fj"
      }
    },
    {
      "cell_type": "code",
      "source": [
        "data[['a', 'e']] # fancy indexing"
      ],
      "metadata": {
        "colab": {
          "base_uri": "https://localhost:8080/"
        },
        "id": "5ZYl58-Wk3yU",
        "outputId": "3d2c3442-0441-446d-8b35-033c14105102"
      },
      "execution_count": 17,
      "outputs": [
        {
          "output_type": "execute_result",
          "data": {
            "text/plain": [
              "a    0.00\n",
              "e    1.25\n",
              "dtype: float64"
            ]
          },
          "metadata": {},
          "execution_count": 17
        }
      ]
    },
    {
      "cell_type": "markdown",
      "source": [
        "### Indexers: loc e iloc"
      ],
      "metadata": {
        "id": "v4c580Fxk7fS"
      }
    },
    {
      "cell_type": "markdown",
      "source": [
        "* Lembrando: \n",
        "\n",
        "    - quando é feito slicing explícito (`data ['a': 'c']`), o índice final é incluído no slice. \n",
        "    - por sua vez, quando é feito slicing implícito (`data[0:2]`), o índice final NÃO é incluído.\n",
        "* Para mitigar esse tipo de confusão, Pandas fornece alguns atributos “indexadores”.    "
      ],
      "metadata": {
        "id": "sg-BUZsLk89Z"
      }
    },
    {
      "cell_type": "markdown",
      "source": [
        "#### O método `loc`: \n",
        "\n",
        " O atributo [loc](https://pandas.pydata.org/pandas-docs/stable/reference/api/pandas.DataFrame.loc.html#pandas-dataframe-loc) acessa um grupo de linhas e colunas, identificadas por rótulos ou arranjos booleanos."
      ],
      "metadata": {
        "id": "3pnd54Duk-7j"
      }
    },
    {
      "cell_type": "code",
      "source": [
        "data.loc['a']"
      ],
      "metadata": {
        "colab": {
          "base_uri": "https://localhost:8080/"
        },
        "id": "asTCoxTEk6L5",
        "outputId": "b741bbed-b35c-4943-ca79-0fd59282c727"
      },
      "execution_count": 18,
      "outputs": [
        {
          "output_type": "execute_result",
          "data": {
            "text/plain": [
              "0.0"
            ]
          },
          "metadata": {},
          "execution_count": 18
        }
      ]
    },
    {
      "cell_type": "code",
      "source": [
        "data.loc['a':'c']"
      ],
      "metadata": {
        "id": "MQrKDulblAj8"
      },
      "execution_count": null,
      "outputs": []
    },
    {
      "cell_type": "markdown",
      "source": [
        "#### Método `iloc`: \n",
        "\n",
        " O atributo [iloc](https://pandas.pydata.org/pandas-docs/stable/reference/api/pandas.DataFrame.iloc.html#pandas-dataframe-iloc) se baseia em um índice local puramente inteiro para seleção de posição. Combina indexing e slicing."
      ],
      "metadata": {
        "id": "7QYmhM53lBz4"
      }
    },
    {
      "cell_type": "code",
      "source": [
        "data.iloc[1]"
      ],
      "metadata": {
        "colab": {
          "base_uri": "https://localhost:8080/"
        },
        "id": "hrkzeZhRlDHd",
        "outputId": "0feee195-8110-4484-b81b-be79f28dceb9"
      },
      "execution_count": 19,
      "outputs": [
        {
          "output_type": "execute_result",
          "data": {
            "text/plain": [
              "0.5"
            ]
          },
          "metadata": {},
          "execution_count": 19
        }
      ]
    },
    {
      "cell_type": "code",
      "source": [
        "data.iloc[0:3]"
      ],
      "metadata": {
        "colab": {
          "base_uri": "https://localhost:8080/"
        },
        "id": "M9BJnWPBlEXd",
        "outputId": "6b448517-5d84-4a1b-d4ed-8f775a80e193"
      },
      "execution_count": 20,
      "outputs": [
        {
          "output_type": "execute_result",
          "data": {
            "text/plain": [
              "a    0.00\n",
              "b    0.50\n",
              "c    0.75\n",
              "dtype: float64"
            ]
          },
          "metadata": {},
          "execution_count": 20
        }
      ]
    },
    {
      "cell_type": "markdown",
      "source": [
        "## Seleção de dados em `DataFrame`."
      ],
      "metadata": {
        "id": "kBjkACf2lGdp"
      }
    },
    {
      "cell_type": "markdown",
      "source": [
        "### DataFrame como um dicionário, construído a partir de listas."
      ],
      "metadata": {
        "id": "0T5cq3ohlIJl"
      }
    },
    {
      "cell_type": "code",
      "source": [
        "area = pd.Series({'California': 423967, 'Texas': 695662,\n",
        "'New York': 141297, 'Florida': 170312,'Illinois': 149995})\n",
        "\n",
        "\n",
        "pop = pd.Series({'California': 38332521, 'Texas': 26448193,\n",
        "'New York': 19651127, 'Florida': 19552860,'Illinois': 12882135})\n",
        "\n",
        "\n",
        "data = pd.DataFrame({'area':area, 'pop':pop})\n",
        "data"
      ],
      "metadata": {
        "colab": {
          "base_uri": "https://localhost:8080/",
          "height": 206
        },
        "id": "qS8_akYKlFP1",
        "outputId": "396ef549-0479-49a5-baca-982273fae1ca"
      },
      "execution_count": 21,
      "outputs": [
        {
          "output_type": "execute_result",
          "data": {
            "text/plain": [
              "              area       pop\n",
              "California  423967  38332521\n",
              "Texas       695662  26448193\n",
              "New York    141297  19651127\n",
              "Florida     170312  19552860\n",
              "Illinois    149995  12882135"
            ],
            "text/html": [
              "\n",
              "  <div id=\"df-a5a9462b-20f8-485c-8f46-33b438b74510\">\n",
              "    <div class=\"colab-df-container\">\n",
              "      <div>\n",
              "<style scoped>\n",
              "    .dataframe tbody tr th:only-of-type {\n",
              "        vertical-align: middle;\n",
              "    }\n",
              "\n",
              "    .dataframe tbody tr th {\n",
              "        vertical-align: top;\n",
              "    }\n",
              "\n",
              "    .dataframe thead th {\n",
              "        text-align: right;\n",
              "    }\n",
              "</style>\n",
              "<table border=\"1\" class=\"dataframe\">\n",
              "  <thead>\n",
              "    <tr style=\"text-align: right;\">\n",
              "      <th></th>\n",
              "      <th>area</th>\n",
              "      <th>pop</th>\n",
              "    </tr>\n",
              "  </thead>\n",
              "  <tbody>\n",
              "    <tr>\n",
              "      <th>California</th>\n",
              "      <td>423967</td>\n",
              "      <td>38332521</td>\n",
              "    </tr>\n",
              "    <tr>\n",
              "      <th>Texas</th>\n",
              "      <td>695662</td>\n",
              "      <td>26448193</td>\n",
              "    </tr>\n",
              "    <tr>\n",
              "      <th>New York</th>\n",
              "      <td>141297</td>\n",
              "      <td>19651127</td>\n",
              "    </tr>\n",
              "    <tr>\n",
              "      <th>Florida</th>\n",
              "      <td>170312</td>\n",
              "      <td>19552860</td>\n",
              "    </tr>\n",
              "    <tr>\n",
              "      <th>Illinois</th>\n",
              "      <td>149995</td>\n",
              "      <td>12882135</td>\n",
              "    </tr>\n",
              "  </tbody>\n",
              "</table>\n",
              "</div>\n",
              "      <button class=\"colab-df-convert\" onclick=\"convertToInteractive('df-a5a9462b-20f8-485c-8f46-33b438b74510')\"\n",
              "              title=\"Convert this dataframe to an interactive table.\"\n",
              "              style=\"display:none;\">\n",
              "        \n",
              "  <svg xmlns=\"http://www.w3.org/2000/svg\" height=\"24px\"viewBox=\"0 0 24 24\"\n",
              "       width=\"24px\">\n",
              "    <path d=\"M0 0h24v24H0V0z\" fill=\"none\"/>\n",
              "    <path d=\"M18.56 5.44l.94 2.06.94-2.06 2.06-.94-2.06-.94-.94-2.06-.94 2.06-2.06.94zm-11 1L8.5 8.5l.94-2.06 2.06-.94-2.06-.94L8.5 2.5l-.94 2.06-2.06.94zm10 10l.94 2.06.94-2.06 2.06-.94-2.06-.94-.94-2.06-.94 2.06-2.06.94z\"/><path d=\"M17.41 7.96l-1.37-1.37c-.4-.4-.92-.59-1.43-.59-.52 0-1.04.2-1.43.59L10.3 9.45l-7.72 7.72c-.78.78-.78 2.05 0 2.83L4 21.41c.39.39.9.59 1.41.59.51 0 1.02-.2 1.41-.59l7.78-7.78 2.81-2.81c.8-.78.8-2.07 0-2.86zM5.41 20L4 18.59l7.72-7.72 1.47 1.35L5.41 20z\"/>\n",
              "  </svg>\n",
              "      </button>\n",
              "      \n",
              "  <style>\n",
              "    .colab-df-container {\n",
              "      display:flex;\n",
              "      flex-wrap:wrap;\n",
              "      gap: 12px;\n",
              "    }\n",
              "\n",
              "    .colab-df-convert {\n",
              "      background-color: #E8F0FE;\n",
              "      border: none;\n",
              "      border-radius: 50%;\n",
              "      cursor: pointer;\n",
              "      display: none;\n",
              "      fill: #1967D2;\n",
              "      height: 32px;\n",
              "      padding: 0 0 0 0;\n",
              "      width: 32px;\n",
              "    }\n",
              "\n",
              "    .colab-df-convert:hover {\n",
              "      background-color: #E2EBFA;\n",
              "      box-shadow: 0px 1px 2px rgba(60, 64, 67, 0.3), 0px 1px 3px 1px rgba(60, 64, 67, 0.15);\n",
              "      fill: #174EA6;\n",
              "    }\n",
              "\n",
              "    [theme=dark] .colab-df-convert {\n",
              "      background-color: #3B4455;\n",
              "      fill: #D2E3FC;\n",
              "    }\n",
              "\n",
              "    [theme=dark] .colab-df-convert:hover {\n",
              "      background-color: #434B5C;\n",
              "      box-shadow: 0px 1px 3px 1px rgba(0, 0, 0, 0.15);\n",
              "      filter: drop-shadow(0px 1px 2px rgba(0, 0, 0, 0.3));\n",
              "      fill: #FFFFFF;\n",
              "    }\n",
              "  </style>\n",
              "\n",
              "      <script>\n",
              "        const buttonEl =\n",
              "          document.querySelector('#df-a5a9462b-20f8-485c-8f46-33b438b74510 button.colab-df-convert');\n",
              "        buttonEl.style.display =\n",
              "          google.colab.kernel.accessAllowed ? 'block' : 'none';\n",
              "\n",
              "        async function convertToInteractive(key) {\n",
              "          const element = document.querySelector('#df-a5a9462b-20f8-485c-8f46-33b438b74510');\n",
              "          const dataTable =\n",
              "            await google.colab.kernel.invokeFunction('convertToInteractive',\n",
              "                                                     [key], {});\n",
              "          if (!dataTable) return;\n",
              "\n",
              "          const docLinkHtml = 'Like what you see? Visit the ' +\n",
              "            '<a target=\"_blank\" href=https://colab.research.google.com/notebooks/data_table.ipynb>data table notebook</a>'\n",
              "            + ' to learn more about interactive tables.';\n",
              "          element.innerHTML = '';\n",
              "          dataTable['output_type'] = 'display_data';\n",
              "          await google.colab.output.renderOutput(dataTable, element);\n",
              "          const docLink = document.createElement('div');\n",
              "          docLink.innerHTML = docLinkHtml;\n",
              "          element.appendChild(docLink);\n",
              "        }\n",
              "      </script>\n",
              "    </div>\n",
              "  </div>\n",
              "  "
            ]
          },
          "metadata": {},
          "execution_count": 21
        }
      ]
    },
    {
      "cell_type": "markdown",
      "source": [
        "* As ``Series`` individuais que formam as colunas do ``DataFrame`` podem ser acessadas analogamente a um dicionário, pelo nome da coluna."
      ],
      "metadata": {
        "id": "XO6XvFrqlLXY"
      }
    },
    {
      "cell_type": "code",
      "source": [
        "data['area']"
      ],
      "metadata": {
        "colab": {
          "base_uri": "https://localhost:8080/"
        },
        "id": "Qg-kkCw7lJZR",
        "outputId": "5f72806a-1458-42c5-ba7e-891e0d74308f"
      },
      "execution_count": 22,
      "outputs": [
        {
          "output_type": "execute_result",
          "data": {
            "text/plain": [
              "California    423967\n",
              "Texas         695662\n",
              "New York      141297\n",
              "Florida       170312\n",
              "Illinois      149995\n",
              "Name: area, dtype: int64"
            ]
          },
          "metadata": {},
          "execution_count": 22
        }
      ]
    },
    {
      "cell_type": "markdown",
      "source": [
        "* De maneira equivalente, podemos usar o estilo \"atributo\" para acessar as colunas chamadas \"strings\"."
      ],
      "metadata": {
        "id": "gL_ss_iMlOGr"
      }
    },
    {
      "cell_type": "code",
      "source": [
        "data.area"
      ],
      "metadata": {
        "colab": {
          "base_uri": "https://localhost:8080/"
        },
        "id": "Jq5EXRcWlMtx",
        "outputId": "162e9bfa-3f17-4a75-c8bb-830fe813ffec"
      },
      "execution_count": 23,
      "outputs": [
        {
          "output_type": "execute_result",
          "data": {
            "text/plain": [
              "California    423967\n",
              "Texas         695662\n",
              "New York      141297\n",
              "Florida       170312\n",
              "Illinois      149995\n",
              "Name: area, dtype: int64"
            ]
          },
          "metadata": {},
          "execution_count": 23
        }
      ]
    },
    {
      "cell_type": "markdown",
      "source": [
        "* As duas formas são equivalentes.\n"
      ],
      "metadata": {
        "id": "HBnMK4DPlRMh"
      }
    },
    {
      "cell_type": "code",
      "source": [
        "data.area is data['area']"
      ],
      "metadata": {
        "colab": {
          "base_uri": "https://localhost:8080/"
        },
        "id": "DA6MVFWclPZX",
        "outputId": "670fb04c-fbd9-4e75-d2f9-274240be428c"
      },
      "execution_count": 24,
      "outputs": [
        {
          "output_type": "execute_result",
          "data": {
            "text/plain": [
              "True"
            ]
          },
          "metadata": {},
          "execution_count": 24
        }
      ]
    },
    {
      "cell_type": "markdown",
      "source": [
        "* Levar em consideração que o estilo \"atributo\" não funciona sempre e em alguns casos mais complexo de se referir. Por exemplo:\n",
        "\n",
        "    - Se os nomes das colunas não forem strings\n",
        "    - Se houver nomes que entrem em conflito com algum método de `DataFrame`\n",
        "    - Nomes de colunas com espaços ou caracteres especiais \n",
        "    - Quando for necessário acessar uma series através de uma outra variável\n",
        "\n",
        "\n",
        "Exemplo: o `DataFrame` tem um método `pop()`, desta forma, `data.pop` apontará para o método e não para a coluna de `data`  \n",
        "Exemplo: `data['Year of foundation']`  \n",
        "Exemplo: `for i in data.columns: data[i]`"
      ],
      "metadata": {
        "id": "R7Ie_KAdlUEB"
      }
    },
    {
      "cell_type": "code",
      "source": [
        "data.pop is data['pop']"
      ],
      "metadata": {
        "colab": {
          "base_uri": "https://localhost:8080/"
        },
        "id": "hPGUsC8clSve",
        "outputId": "fd087804-f84a-455c-de33-9369679a5088"
      },
      "execution_count": 25,
      "outputs": [
        {
          "output_type": "execute_result",
          "data": {
            "text/plain": [
              "False"
            ]
          },
          "metadata": {},
          "execution_count": 25
        }
      ]
    },
    {
      "cell_type": "markdown",
      "source": [
        "* É particularmente importante evitar a atribuição de colunas através de atributos. Por exemplo, usar `data['pop'] = z` ao invés de `data.pop = z`.\n",
        "* O estilo dicionário pode ser usado para modificar um objeto:"
      ],
      "metadata": {
        "id": "L1esEk8KlW6G"
      }
    },
    {
      "cell_type": "code",
      "source": [
        "data['density'] = data['pop'] / data['area']\n",
        "data"
      ],
      "metadata": {
        "colab": {
          "base_uri": "https://localhost:8080/",
          "height": 206
        },
        "id": "p7OpJC2qlVpB",
        "outputId": "77833e65-1300-4024-fa09-6ce1098bc7e2"
      },
      "execution_count": 26,
      "outputs": [
        {
          "output_type": "execute_result",
          "data": {
            "text/plain": [
              "              area       pop     density\n",
              "California  423967  38332521   90.413926\n",
              "Texas       695662  26448193   38.018740\n",
              "New York    141297  19651127  139.076746\n",
              "Florida     170312  19552860  114.806121\n",
              "Illinois    149995  12882135   85.883763"
            ],
            "text/html": [
              "\n",
              "  <div id=\"df-3240379a-669e-40f4-a3ac-e2d9fb0a3cdd\">\n",
              "    <div class=\"colab-df-container\">\n",
              "      <div>\n",
              "<style scoped>\n",
              "    .dataframe tbody tr th:only-of-type {\n",
              "        vertical-align: middle;\n",
              "    }\n",
              "\n",
              "    .dataframe tbody tr th {\n",
              "        vertical-align: top;\n",
              "    }\n",
              "\n",
              "    .dataframe thead th {\n",
              "        text-align: right;\n",
              "    }\n",
              "</style>\n",
              "<table border=\"1\" class=\"dataframe\">\n",
              "  <thead>\n",
              "    <tr style=\"text-align: right;\">\n",
              "      <th></th>\n",
              "      <th>area</th>\n",
              "      <th>pop</th>\n",
              "      <th>density</th>\n",
              "    </tr>\n",
              "  </thead>\n",
              "  <tbody>\n",
              "    <tr>\n",
              "      <th>California</th>\n",
              "      <td>423967</td>\n",
              "      <td>38332521</td>\n",
              "      <td>90.413926</td>\n",
              "    </tr>\n",
              "    <tr>\n",
              "      <th>Texas</th>\n",
              "      <td>695662</td>\n",
              "      <td>26448193</td>\n",
              "      <td>38.018740</td>\n",
              "    </tr>\n",
              "    <tr>\n",
              "      <th>New York</th>\n",
              "      <td>141297</td>\n",
              "      <td>19651127</td>\n",
              "      <td>139.076746</td>\n",
              "    </tr>\n",
              "    <tr>\n",
              "      <th>Florida</th>\n",
              "      <td>170312</td>\n",
              "      <td>19552860</td>\n",
              "      <td>114.806121</td>\n",
              "    </tr>\n",
              "    <tr>\n",
              "      <th>Illinois</th>\n",
              "      <td>149995</td>\n",
              "      <td>12882135</td>\n",
              "      <td>85.883763</td>\n",
              "    </tr>\n",
              "  </tbody>\n",
              "</table>\n",
              "</div>\n",
              "      <button class=\"colab-df-convert\" onclick=\"convertToInteractive('df-3240379a-669e-40f4-a3ac-e2d9fb0a3cdd')\"\n",
              "              title=\"Convert this dataframe to an interactive table.\"\n",
              "              style=\"display:none;\">\n",
              "        \n",
              "  <svg xmlns=\"http://www.w3.org/2000/svg\" height=\"24px\"viewBox=\"0 0 24 24\"\n",
              "       width=\"24px\">\n",
              "    <path d=\"M0 0h24v24H0V0z\" fill=\"none\"/>\n",
              "    <path d=\"M18.56 5.44l.94 2.06.94-2.06 2.06-.94-2.06-.94-.94-2.06-.94 2.06-2.06.94zm-11 1L8.5 8.5l.94-2.06 2.06-.94-2.06-.94L8.5 2.5l-.94 2.06-2.06.94zm10 10l.94 2.06.94-2.06 2.06-.94-2.06-.94-.94-2.06-.94 2.06-2.06.94z\"/><path d=\"M17.41 7.96l-1.37-1.37c-.4-.4-.92-.59-1.43-.59-.52 0-1.04.2-1.43.59L10.3 9.45l-7.72 7.72c-.78.78-.78 2.05 0 2.83L4 21.41c.39.39.9.59 1.41.59.51 0 1.02-.2 1.41-.59l7.78-7.78 2.81-2.81c.8-.78.8-2.07 0-2.86zM5.41 20L4 18.59l7.72-7.72 1.47 1.35L5.41 20z\"/>\n",
              "  </svg>\n",
              "      </button>\n",
              "      \n",
              "  <style>\n",
              "    .colab-df-container {\n",
              "      display:flex;\n",
              "      flex-wrap:wrap;\n",
              "      gap: 12px;\n",
              "    }\n",
              "\n",
              "    .colab-df-convert {\n",
              "      background-color: #E8F0FE;\n",
              "      border: none;\n",
              "      border-radius: 50%;\n",
              "      cursor: pointer;\n",
              "      display: none;\n",
              "      fill: #1967D2;\n",
              "      height: 32px;\n",
              "      padding: 0 0 0 0;\n",
              "      width: 32px;\n",
              "    }\n",
              "\n",
              "    .colab-df-convert:hover {\n",
              "      background-color: #E2EBFA;\n",
              "      box-shadow: 0px 1px 2px rgba(60, 64, 67, 0.3), 0px 1px 3px 1px rgba(60, 64, 67, 0.15);\n",
              "      fill: #174EA6;\n",
              "    }\n",
              "\n",
              "    [theme=dark] .colab-df-convert {\n",
              "      background-color: #3B4455;\n",
              "      fill: #D2E3FC;\n",
              "    }\n",
              "\n",
              "    [theme=dark] .colab-df-convert:hover {\n",
              "      background-color: #434B5C;\n",
              "      box-shadow: 0px 1px 3px 1px rgba(0, 0, 0, 0.15);\n",
              "      filter: drop-shadow(0px 1px 2px rgba(0, 0, 0, 0.3));\n",
              "      fill: #FFFFFF;\n",
              "    }\n",
              "  </style>\n",
              "\n",
              "      <script>\n",
              "        const buttonEl =\n",
              "          document.querySelector('#df-3240379a-669e-40f4-a3ac-e2d9fb0a3cdd button.colab-df-convert');\n",
              "        buttonEl.style.display =\n",
              "          google.colab.kernel.accessAllowed ? 'block' : 'none';\n",
              "\n",
              "        async function convertToInteractive(key) {\n",
              "          const element = document.querySelector('#df-3240379a-669e-40f4-a3ac-e2d9fb0a3cdd');\n",
              "          const dataTable =\n",
              "            await google.colab.kernel.invokeFunction('convertToInteractive',\n",
              "                                                     [key], {});\n",
              "          if (!dataTable) return;\n",
              "\n",
              "          const docLinkHtml = 'Like what you see? Visit the ' +\n",
              "            '<a target=\"_blank\" href=https://colab.research.google.com/notebooks/data_table.ipynb>data table notebook</a>'\n",
              "            + ' to learn more about interactive tables.';\n",
              "          element.innerHTML = '';\n",
              "          dataTable['output_type'] = 'display_data';\n",
              "          await google.colab.output.renderOutput(dataTable, element);\n",
              "          const docLink = document.createElement('div');\n",
              "          docLink.innerHTML = docLinkHtml;\n",
              "          element.appendChild(docLink);\n",
              "        }\n",
              "      </script>\n",
              "    </div>\n",
              "  </div>\n",
              "  "
            ]
          },
          "metadata": {},
          "execution_count": 26
        }
      ]
    },
    {
      "cell_type": "code",
      "source": [
        "data['pop_k'] = data['pop'] / 1000\n",
        "data"
      ],
      "metadata": {
        "colab": {
          "base_uri": "https://localhost:8080/",
          "height": 206
        },
        "id": "2aTsnpJ-lYSR",
        "outputId": "53cbf065-c881-4097-fef9-2fd76c82ba28"
      },
      "execution_count": 27,
      "outputs": [
        {
          "output_type": "execute_result",
          "data": {
            "text/plain": [
              "              area       pop     density      pop_k\n",
              "California  423967  38332521   90.413926  38332.521\n",
              "Texas       695662  26448193   38.018740  26448.193\n",
              "New York    141297  19651127  139.076746  19651.127\n",
              "Florida     170312  19552860  114.806121  19552.860\n",
              "Illinois    149995  12882135   85.883763  12882.135"
            ],
            "text/html": [
              "\n",
              "  <div id=\"df-cc1558e8-defd-4b43-84a6-a2c036208365\">\n",
              "    <div class=\"colab-df-container\">\n",
              "      <div>\n",
              "<style scoped>\n",
              "    .dataframe tbody tr th:only-of-type {\n",
              "        vertical-align: middle;\n",
              "    }\n",
              "\n",
              "    .dataframe tbody tr th {\n",
              "        vertical-align: top;\n",
              "    }\n",
              "\n",
              "    .dataframe thead th {\n",
              "        text-align: right;\n",
              "    }\n",
              "</style>\n",
              "<table border=\"1\" class=\"dataframe\">\n",
              "  <thead>\n",
              "    <tr style=\"text-align: right;\">\n",
              "      <th></th>\n",
              "      <th>area</th>\n",
              "      <th>pop</th>\n",
              "      <th>density</th>\n",
              "      <th>pop_k</th>\n",
              "    </tr>\n",
              "  </thead>\n",
              "  <tbody>\n",
              "    <tr>\n",
              "      <th>California</th>\n",
              "      <td>423967</td>\n",
              "      <td>38332521</td>\n",
              "      <td>90.413926</td>\n",
              "      <td>38332.521</td>\n",
              "    </tr>\n",
              "    <tr>\n",
              "      <th>Texas</th>\n",
              "      <td>695662</td>\n",
              "      <td>26448193</td>\n",
              "      <td>38.018740</td>\n",
              "      <td>26448.193</td>\n",
              "    </tr>\n",
              "    <tr>\n",
              "      <th>New York</th>\n",
              "      <td>141297</td>\n",
              "      <td>19651127</td>\n",
              "      <td>139.076746</td>\n",
              "      <td>19651.127</td>\n",
              "    </tr>\n",
              "    <tr>\n",
              "      <th>Florida</th>\n",
              "      <td>170312</td>\n",
              "      <td>19552860</td>\n",
              "      <td>114.806121</td>\n",
              "      <td>19552.860</td>\n",
              "    </tr>\n",
              "    <tr>\n",
              "      <th>Illinois</th>\n",
              "      <td>149995</td>\n",
              "      <td>12882135</td>\n",
              "      <td>85.883763</td>\n",
              "      <td>12882.135</td>\n",
              "    </tr>\n",
              "  </tbody>\n",
              "</table>\n",
              "</div>\n",
              "      <button class=\"colab-df-convert\" onclick=\"convertToInteractive('df-cc1558e8-defd-4b43-84a6-a2c036208365')\"\n",
              "              title=\"Convert this dataframe to an interactive table.\"\n",
              "              style=\"display:none;\">\n",
              "        \n",
              "  <svg xmlns=\"http://www.w3.org/2000/svg\" height=\"24px\"viewBox=\"0 0 24 24\"\n",
              "       width=\"24px\">\n",
              "    <path d=\"M0 0h24v24H0V0z\" fill=\"none\"/>\n",
              "    <path d=\"M18.56 5.44l.94 2.06.94-2.06 2.06-.94-2.06-.94-.94-2.06-.94 2.06-2.06.94zm-11 1L8.5 8.5l.94-2.06 2.06-.94-2.06-.94L8.5 2.5l-.94 2.06-2.06.94zm10 10l.94 2.06.94-2.06 2.06-.94-2.06-.94-.94-2.06-.94 2.06-2.06.94z\"/><path d=\"M17.41 7.96l-1.37-1.37c-.4-.4-.92-.59-1.43-.59-.52 0-1.04.2-1.43.59L10.3 9.45l-7.72 7.72c-.78.78-.78 2.05 0 2.83L4 21.41c.39.39.9.59 1.41.59.51 0 1.02-.2 1.41-.59l7.78-7.78 2.81-2.81c.8-.78.8-2.07 0-2.86zM5.41 20L4 18.59l7.72-7.72 1.47 1.35L5.41 20z\"/>\n",
              "  </svg>\n",
              "      </button>\n",
              "      \n",
              "  <style>\n",
              "    .colab-df-container {\n",
              "      display:flex;\n",
              "      flex-wrap:wrap;\n",
              "      gap: 12px;\n",
              "    }\n",
              "\n",
              "    .colab-df-convert {\n",
              "      background-color: #E8F0FE;\n",
              "      border: none;\n",
              "      border-radius: 50%;\n",
              "      cursor: pointer;\n",
              "      display: none;\n",
              "      fill: #1967D2;\n",
              "      height: 32px;\n",
              "      padding: 0 0 0 0;\n",
              "      width: 32px;\n",
              "    }\n",
              "\n",
              "    .colab-df-convert:hover {\n",
              "      background-color: #E2EBFA;\n",
              "      box-shadow: 0px 1px 2px rgba(60, 64, 67, 0.3), 0px 1px 3px 1px rgba(60, 64, 67, 0.15);\n",
              "      fill: #174EA6;\n",
              "    }\n",
              "\n",
              "    [theme=dark] .colab-df-convert {\n",
              "      background-color: #3B4455;\n",
              "      fill: #D2E3FC;\n",
              "    }\n",
              "\n",
              "    [theme=dark] .colab-df-convert:hover {\n",
              "      background-color: #434B5C;\n",
              "      box-shadow: 0px 1px 3px 1px rgba(0, 0, 0, 0.15);\n",
              "      filter: drop-shadow(0px 1px 2px rgba(0, 0, 0, 0.3));\n",
              "      fill: #FFFFFF;\n",
              "    }\n",
              "  </style>\n",
              "\n",
              "      <script>\n",
              "        const buttonEl =\n",
              "          document.querySelector('#df-cc1558e8-defd-4b43-84a6-a2c036208365 button.colab-df-convert');\n",
              "        buttonEl.style.display =\n",
              "          google.colab.kernel.accessAllowed ? 'block' : 'none';\n",
              "\n",
              "        async function convertToInteractive(key) {\n",
              "          const element = document.querySelector('#df-cc1558e8-defd-4b43-84a6-a2c036208365');\n",
              "          const dataTable =\n",
              "            await google.colab.kernel.invokeFunction('convertToInteractive',\n",
              "                                                     [key], {});\n",
              "          if (!dataTable) return;\n",
              "\n",
              "          const docLinkHtml = 'Like what you see? Visit the ' +\n",
              "            '<a target=\"_blank\" href=https://colab.research.google.com/notebooks/data_table.ipynb>data table notebook</a>'\n",
              "            + ' to learn more about interactive tables.';\n",
              "          element.innerHTML = '';\n",
              "          dataTable['output_type'] = 'display_data';\n",
              "          await google.colab.output.renderOutput(dataTable, element);\n",
              "          const docLink = document.createElement('div');\n",
              "          docLink.innerHTML = docLinkHtml;\n",
              "          element.appendChild(docLink);\n",
              "        }\n",
              "      </script>\n",
              "    </div>\n",
              "  </div>\n",
              "  "
            ]
          },
          "metadata": {},
          "execution_count": 27
        }
      ]
    },
    {
      "cell_type": "code",
      "source": [
        "data['pop_k'] = round(data['pop_k'],0)\n",
        "data"
      ],
      "metadata": {
        "colab": {
          "base_uri": "https://localhost:8080/",
          "height": 206
        },
        "id": "L7yuIM2glZV4",
        "outputId": "66ecfc68-4f79-4a67-c190-7b2186519f84"
      },
      "execution_count": 28,
      "outputs": [
        {
          "output_type": "execute_result",
          "data": {
            "text/plain": [
              "              area       pop     density    pop_k\n",
              "California  423967  38332521   90.413926  38333.0\n",
              "Texas       695662  26448193   38.018740  26448.0\n",
              "New York    141297  19651127  139.076746  19651.0\n",
              "Florida     170312  19552860  114.806121  19553.0\n",
              "Illinois    149995  12882135   85.883763  12882.0"
            ],
            "text/html": [
              "\n",
              "  <div id=\"df-b7705a23-5e00-45e7-aad6-299386803b0a\">\n",
              "    <div class=\"colab-df-container\">\n",
              "      <div>\n",
              "<style scoped>\n",
              "    .dataframe tbody tr th:only-of-type {\n",
              "        vertical-align: middle;\n",
              "    }\n",
              "\n",
              "    .dataframe tbody tr th {\n",
              "        vertical-align: top;\n",
              "    }\n",
              "\n",
              "    .dataframe thead th {\n",
              "        text-align: right;\n",
              "    }\n",
              "</style>\n",
              "<table border=\"1\" class=\"dataframe\">\n",
              "  <thead>\n",
              "    <tr style=\"text-align: right;\">\n",
              "      <th></th>\n",
              "      <th>area</th>\n",
              "      <th>pop</th>\n",
              "      <th>density</th>\n",
              "      <th>pop_k</th>\n",
              "    </tr>\n",
              "  </thead>\n",
              "  <tbody>\n",
              "    <tr>\n",
              "      <th>California</th>\n",
              "      <td>423967</td>\n",
              "      <td>38332521</td>\n",
              "      <td>90.413926</td>\n",
              "      <td>38333.0</td>\n",
              "    </tr>\n",
              "    <tr>\n",
              "      <th>Texas</th>\n",
              "      <td>695662</td>\n",
              "      <td>26448193</td>\n",
              "      <td>38.018740</td>\n",
              "      <td>26448.0</td>\n",
              "    </tr>\n",
              "    <tr>\n",
              "      <th>New York</th>\n",
              "      <td>141297</td>\n",
              "      <td>19651127</td>\n",
              "      <td>139.076746</td>\n",
              "      <td>19651.0</td>\n",
              "    </tr>\n",
              "    <tr>\n",
              "      <th>Florida</th>\n",
              "      <td>170312</td>\n",
              "      <td>19552860</td>\n",
              "      <td>114.806121</td>\n",
              "      <td>19553.0</td>\n",
              "    </tr>\n",
              "    <tr>\n",
              "      <th>Illinois</th>\n",
              "      <td>149995</td>\n",
              "      <td>12882135</td>\n",
              "      <td>85.883763</td>\n",
              "      <td>12882.0</td>\n",
              "    </tr>\n",
              "  </tbody>\n",
              "</table>\n",
              "</div>\n",
              "      <button class=\"colab-df-convert\" onclick=\"convertToInteractive('df-b7705a23-5e00-45e7-aad6-299386803b0a')\"\n",
              "              title=\"Convert this dataframe to an interactive table.\"\n",
              "              style=\"display:none;\">\n",
              "        \n",
              "  <svg xmlns=\"http://www.w3.org/2000/svg\" height=\"24px\"viewBox=\"0 0 24 24\"\n",
              "       width=\"24px\">\n",
              "    <path d=\"M0 0h24v24H0V0z\" fill=\"none\"/>\n",
              "    <path d=\"M18.56 5.44l.94 2.06.94-2.06 2.06-.94-2.06-.94-.94-2.06-.94 2.06-2.06.94zm-11 1L8.5 8.5l.94-2.06 2.06-.94-2.06-.94L8.5 2.5l-.94 2.06-2.06.94zm10 10l.94 2.06.94-2.06 2.06-.94-2.06-.94-.94-2.06-.94 2.06-2.06.94z\"/><path d=\"M17.41 7.96l-1.37-1.37c-.4-.4-.92-.59-1.43-.59-.52 0-1.04.2-1.43.59L10.3 9.45l-7.72 7.72c-.78.78-.78 2.05 0 2.83L4 21.41c.39.39.9.59 1.41.59.51 0 1.02-.2 1.41-.59l7.78-7.78 2.81-2.81c.8-.78.8-2.07 0-2.86zM5.41 20L4 18.59l7.72-7.72 1.47 1.35L5.41 20z\"/>\n",
              "  </svg>\n",
              "      </button>\n",
              "      \n",
              "  <style>\n",
              "    .colab-df-container {\n",
              "      display:flex;\n",
              "      flex-wrap:wrap;\n",
              "      gap: 12px;\n",
              "    }\n",
              "\n",
              "    .colab-df-convert {\n",
              "      background-color: #E8F0FE;\n",
              "      border: none;\n",
              "      border-radius: 50%;\n",
              "      cursor: pointer;\n",
              "      display: none;\n",
              "      fill: #1967D2;\n",
              "      height: 32px;\n",
              "      padding: 0 0 0 0;\n",
              "      width: 32px;\n",
              "    }\n",
              "\n",
              "    .colab-df-convert:hover {\n",
              "      background-color: #E2EBFA;\n",
              "      box-shadow: 0px 1px 2px rgba(60, 64, 67, 0.3), 0px 1px 3px 1px rgba(60, 64, 67, 0.15);\n",
              "      fill: #174EA6;\n",
              "    }\n",
              "\n",
              "    [theme=dark] .colab-df-convert {\n",
              "      background-color: #3B4455;\n",
              "      fill: #D2E3FC;\n",
              "    }\n",
              "\n",
              "    [theme=dark] .colab-df-convert:hover {\n",
              "      background-color: #434B5C;\n",
              "      box-shadow: 0px 1px 3px 1px rgba(0, 0, 0, 0.15);\n",
              "      filter: drop-shadow(0px 1px 2px rgba(0, 0, 0, 0.3));\n",
              "      fill: #FFFFFF;\n",
              "    }\n",
              "  </style>\n",
              "\n",
              "      <script>\n",
              "        const buttonEl =\n",
              "          document.querySelector('#df-b7705a23-5e00-45e7-aad6-299386803b0a button.colab-df-convert');\n",
              "        buttonEl.style.display =\n",
              "          google.colab.kernel.accessAllowed ? 'block' : 'none';\n",
              "\n",
              "        async function convertToInteractive(key) {\n",
              "          const element = document.querySelector('#df-b7705a23-5e00-45e7-aad6-299386803b0a');\n",
              "          const dataTable =\n",
              "            await google.colab.kernel.invokeFunction('convertToInteractive',\n",
              "                                                     [key], {});\n",
              "          if (!dataTable) return;\n",
              "\n",
              "          const docLinkHtml = 'Like what you see? Visit the ' +\n",
              "            '<a target=\"_blank\" href=https://colab.research.google.com/notebooks/data_table.ipynb>data table notebook</a>'\n",
              "            + ' to learn more about interactive tables.';\n",
              "          element.innerHTML = '';\n",
              "          dataTable['output_type'] = 'display_data';\n",
              "          await google.colab.output.renderOutput(dataTable, element);\n",
              "          const docLink = document.createElement('div');\n",
              "          docLink.innerHTML = docLinkHtml;\n",
              "          element.appendChild(docLink);\n",
              "        }\n",
              "      </script>\n",
              "    </div>\n",
              "  </div>\n",
              "  "
            ]
          },
          "metadata": {},
          "execution_count": 28
        }
      ]
    },
    {
      "cell_type": "markdown",
      "source": [
        "### DataFrame como um array bidimensional.\n",
        "\n",
        "* Vamos examinar o atributo `values`."
      ],
      "metadata": {
        "id": "1UnvPlNslbzr"
      }
    },
    {
      "cell_type": "code",
      "source": [
        "data.values"
      ],
      "metadata": {
        "colab": {
          "base_uri": "https://localhost:8080/"
        },
        "id": "rkwmsbWllabB",
        "outputId": "1bf8c445-5784-41ca-f9b2-eefd8091d6a2"
      },
      "execution_count": 29,
      "outputs": [
        {
          "output_type": "execute_result",
          "data": {
            "text/plain": [
              "array([[4.23967000e+05, 3.83325210e+07, 9.04139261e+01, 3.83330000e+04],\n",
              "       [6.95662000e+05, 2.64481930e+07, 3.80187404e+01, 2.64480000e+04],\n",
              "       [1.41297000e+05, 1.96511270e+07, 1.39076746e+02, 1.96510000e+04],\n",
              "       [1.70312000e+05, 1.95528600e+07, 1.14806121e+02, 1.95530000e+04],\n",
              "       [1.49995000e+05, 1.28821350e+07, 8.58837628e+01, 1.28820000e+04]])"
            ]
          },
          "metadata": {},
          "execution_count": 29
        }
      ]
    },
    {
      "cell_type": "markdown",
      "source": [
        "* Considerando isso, podemos realizar a analogia e usar muitas operações semelhantes às dos arranjos em um `DataFrame`.\n",
        "\n",
        "* Como no caso de uma indexação `Series`, indexar um `DataFrame` de forma análoga a um arranjo pode ser um pouco confuso.\n",
        "\n",
        "* Particularmente, passar um índice simples em um `DataFrame` retorna uma linha. "
      ],
      "metadata": {
        "id": "2K4aYHhrleqE"
      }
    },
    {
      "cell_type": "code",
      "source": [
        "data[0]"
      ],
      "metadata": {
        "colab": {
          "base_uri": "https://localhost:8080/",
          "height": 502
        },
        "id": "WcBx5snkldJo",
        "outputId": "f55dd4a5-d464-44fe-ce73-b59dc731ffd3"
      },
      "execution_count": 30,
      "outputs": [
        {
          "output_type": "error",
          "ename": "KeyError",
          "evalue": "ignored",
          "traceback": [
            "\u001b[0;31m---------------------------------------------------------------------------\u001b[0m",
            "\u001b[0;31mKeyError\u001b[0m                                  Traceback (most recent call last)",
            "\u001b[0;32m/usr/local/lib/python3.8/dist-packages/pandas/core/indexes/base.py\u001b[0m in \u001b[0;36mget_loc\u001b[0;34m(self, key, method, tolerance)\u001b[0m\n\u001b[1;32m   3360\u001b[0m             \u001b[0;32mtry\u001b[0m\u001b[0;34m:\u001b[0m\u001b[0;34m\u001b[0m\u001b[0;34m\u001b[0m\u001b[0m\n\u001b[0;32m-> 3361\u001b[0;31m                 \u001b[0;32mreturn\u001b[0m \u001b[0mself\u001b[0m\u001b[0;34m.\u001b[0m\u001b[0m_engine\u001b[0m\u001b[0;34m.\u001b[0m\u001b[0mget_loc\u001b[0m\u001b[0;34m(\u001b[0m\u001b[0mcasted_key\u001b[0m\u001b[0;34m)\u001b[0m\u001b[0;34m\u001b[0m\u001b[0;34m\u001b[0m\u001b[0m\n\u001b[0m\u001b[1;32m   3362\u001b[0m             \u001b[0;32mexcept\u001b[0m \u001b[0mKeyError\u001b[0m \u001b[0;32mas\u001b[0m \u001b[0merr\u001b[0m\u001b[0;34m:\u001b[0m\u001b[0;34m\u001b[0m\u001b[0;34m\u001b[0m\u001b[0m\n",
            "\u001b[0;32m/usr/local/lib/python3.8/dist-packages/pandas/_libs/index.pyx\u001b[0m in \u001b[0;36mpandas._libs.index.IndexEngine.get_loc\u001b[0;34m()\u001b[0m\n",
            "\u001b[0;32m/usr/local/lib/python3.8/dist-packages/pandas/_libs/index.pyx\u001b[0m in \u001b[0;36mpandas._libs.index.IndexEngine.get_loc\u001b[0;34m()\u001b[0m\n",
            "\u001b[0;32mpandas/_libs/hashtable_class_helper.pxi\u001b[0m in \u001b[0;36mpandas._libs.hashtable.PyObjectHashTable.get_item\u001b[0;34m()\u001b[0m\n",
            "\u001b[0;32mpandas/_libs/hashtable_class_helper.pxi\u001b[0m in \u001b[0;36mpandas._libs.hashtable.PyObjectHashTable.get_item\u001b[0;34m()\u001b[0m\n",
            "\u001b[0;31mKeyError\u001b[0m: 0",
            "\nThe above exception was the direct cause of the following exception:\n",
            "\u001b[0;31mKeyError\u001b[0m                                  Traceback (most recent call last)",
            "\u001b[0;32m<ipython-input-30-80a4aab09c73>\u001b[0m in \u001b[0;36m<module>\u001b[0;34m\u001b[0m\n\u001b[0;32m----> 1\u001b[0;31m \u001b[0mdata\u001b[0m\u001b[0;34m[\u001b[0m\u001b[0;36m0\u001b[0m\u001b[0;34m]\u001b[0m\u001b[0;34m\u001b[0m\u001b[0;34m\u001b[0m\u001b[0m\n\u001b[0m",
            "\u001b[0;32m/usr/local/lib/python3.8/dist-packages/pandas/core/frame.py\u001b[0m in \u001b[0;36m__getitem__\u001b[0;34m(self, key)\u001b[0m\n\u001b[1;32m   3456\u001b[0m             \u001b[0;32mif\u001b[0m \u001b[0mself\u001b[0m\u001b[0;34m.\u001b[0m\u001b[0mcolumns\u001b[0m\u001b[0;34m.\u001b[0m\u001b[0mnlevels\u001b[0m \u001b[0;34m>\u001b[0m \u001b[0;36m1\u001b[0m\u001b[0;34m:\u001b[0m\u001b[0;34m\u001b[0m\u001b[0;34m\u001b[0m\u001b[0m\n\u001b[1;32m   3457\u001b[0m                 \u001b[0;32mreturn\u001b[0m \u001b[0mself\u001b[0m\u001b[0;34m.\u001b[0m\u001b[0m_getitem_multilevel\u001b[0m\u001b[0;34m(\u001b[0m\u001b[0mkey\u001b[0m\u001b[0;34m)\u001b[0m\u001b[0;34m\u001b[0m\u001b[0;34m\u001b[0m\u001b[0m\n\u001b[0;32m-> 3458\u001b[0;31m             \u001b[0mindexer\u001b[0m \u001b[0;34m=\u001b[0m \u001b[0mself\u001b[0m\u001b[0;34m.\u001b[0m\u001b[0mcolumns\u001b[0m\u001b[0;34m.\u001b[0m\u001b[0mget_loc\u001b[0m\u001b[0;34m(\u001b[0m\u001b[0mkey\u001b[0m\u001b[0;34m)\u001b[0m\u001b[0;34m\u001b[0m\u001b[0;34m\u001b[0m\u001b[0m\n\u001b[0m\u001b[1;32m   3459\u001b[0m             \u001b[0;32mif\u001b[0m \u001b[0mis_integer\u001b[0m\u001b[0;34m(\u001b[0m\u001b[0mindexer\u001b[0m\u001b[0;34m)\u001b[0m\u001b[0;34m:\u001b[0m\u001b[0;34m\u001b[0m\u001b[0;34m\u001b[0m\u001b[0m\n\u001b[1;32m   3460\u001b[0m                 \u001b[0mindexer\u001b[0m \u001b[0;34m=\u001b[0m \u001b[0;34m[\u001b[0m\u001b[0mindexer\u001b[0m\u001b[0;34m]\u001b[0m\u001b[0;34m\u001b[0m\u001b[0;34m\u001b[0m\u001b[0m\n",
            "\u001b[0;32m/usr/local/lib/python3.8/dist-packages/pandas/core/indexes/base.py\u001b[0m in \u001b[0;36mget_loc\u001b[0;34m(self, key, method, tolerance)\u001b[0m\n\u001b[1;32m   3361\u001b[0m                 \u001b[0;32mreturn\u001b[0m \u001b[0mself\u001b[0m\u001b[0;34m.\u001b[0m\u001b[0m_engine\u001b[0m\u001b[0;34m.\u001b[0m\u001b[0mget_loc\u001b[0m\u001b[0;34m(\u001b[0m\u001b[0mcasted_key\u001b[0m\u001b[0;34m)\u001b[0m\u001b[0;34m\u001b[0m\u001b[0;34m\u001b[0m\u001b[0m\n\u001b[1;32m   3362\u001b[0m             \u001b[0;32mexcept\u001b[0m \u001b[0mKeyError\u001b[0m \u001b[0;32mas\u001b[0m \u001b[0merr\u001b[0m\u001b[0;34m:\u001b[0m\u001b[0;34m\u001b[0m\u001b[0;34m\u001b[0m\u001b[0m\n\u001b[0;32m-> 3363\u001b[0;31m                 \u001b[0;32mraise\u001b[0m \u001b[0mKeyError\u001b[0m\u001b[0;34m(\u001b[0m\u001b[0mkey\u001b[0m\u001b[0;34m)\u001b[0m \u001b[0;32mfrom\u001b[0m \u001b[0merr\u001b[0m\u001b[0;34m\u001b[0m\u001b[0;34m\u001b[0m\u001b[0m\n\u001b[0m\u001b[1;32m   3364\u001b[0m \u001b[0;34m\u001b[0m\u001b[0m\n\u001b[1;32m   3365\u001b[0m         \u001b[0;32mif\u001b[0m \u001b[0mis_scalar\u001b[0m\u001b[0;34m(\u001b[0m\u001b[0mkey\u001b[0m\u001b[0;34m)\u001b[0m \u001b[0;32mand\u001b[0m \u001b[0misna\u001b[0m\u001b[0;34m(\u001b[0m\u001b[0mkey\u001b[0m\u001b[0;34m)\u001b[0m \u001b[0;32mand\u001b[0m \u001b[0;32mnot\u001b[0m \u001b[0mself\u001b[0m\u001b[0;34m.\u001b[0m\u001b[0mhasnans\u001b[0m\u001b[0;34m:\u001b[0m\u001b[0;34m\u001b[0m\u001b[0;34m\u001b[0m\u001b[0m\n",
            "\u001b[0;31mKeyError\u001b[0m: 0"
          ]
        }
      ]
    },
    {
      "cell_type": "code",
      "source": [
        "data.iloc[0]"
      ],
      "metadata": {
        "colab": {
          "base_uri": "https://localhost:8080/"
        },
        "id": "FpmWL1z6lhk9",
        "outputId": "b283855d-c8ab-4bd2-8a65-4ee0314cd0b8"
      },
      "execution_count": 31,
      "outputs": [
        {
          "output_type": "execute_result",
          "data": {
            "text/plain": [
              "area       4.239670e+05\n",
              "pop        3.833252e+07\n",
              "density    9.041393e+01\n",
              "pop_k      3.833300e+04\n",
              "Name: California, dtype: float64"
            ]
          },
          "metadata": {},
          "execution_count": 31
        }
      ]
    },
    {
      "cell_type": "markdown",
      "source": [
        "* E passar um índice simples retorna uma coluna:"
      ],
      "metadata": {
        "id": "N3XG0xJWlp3W"
      }
    },
    {
      "cell_type": "code",
      "source": [
        "data['area']"
      ],
      "metadata": {
        "colab": {
          "base_uri": "https://localhost:8080/"
        },
        "id": "pFp0ofKuljvk",
        "outputId": "3481381c-18b9-45fb-9173-e70e764932b5"
      },
      "execution_count": 32,
      "outputs": [
        {
          "output_type": "execute_result",
          "data": {
            "text/plain": [
              "California    423967\n",
              "Texas         695662\n",
              "New York      141297\n",
              "Florida       170312\n",
              "Illinois      149995\n",
              "Name: area, dtype: int64"
            ]
          },
          "metadata": {},
          "execution_count": 32
        }
      ]
    },
    {
      "cell_type": "markdown",
      "source": [
        "* Por isso, Pandas usa os indexadores `loc` e `iloc`.\n",
        "\n",
        "* Usando `iloc`, podemos indexar os arranjos subjacentes a um `DataFrame`, como se fosse um arranjo comum, mas o índice e a tag de coluna são mantidos no resultado:"
      ],
      "metadata": {
        "id": "ZFl1Xxvvlrog"
      }
    },
    {
      "cell_type": "code",
      "source": [
        "data.iloc[:3, :2]"
      ],
      "metadata": {
        "colab": {
          "base_uri": "https://localhost:8080/",
          "height": 143
        },
        "id": "oMkgPXYilk1B",
        "outputId": "d6dede30-8f92-49f5-b3ee-3d5b54e8f319"
      },
      "execution_count": 33,
      "outputs": [
        {
          "output_type": "execute_result",
          "data": {
            "text/plain": [
              "              area       pop\n",
              "California  423967  38332521\n",
              "Texas       695662  26448193\n",
              "New York    141297  19651127"
            ],
            "text/html": [
              "\n",
              "  <div id=\"df-2e6361a2-35fe-4237-a8e8-66573c5e301a\">\n",
              "    <div class=\"colab-df-container\">\n",
              "      <div>\n",
              "<style scoped>\n",
              "    .dataframe tbody tr th:only-of-type {\n",
              "        vertical-align: middle;\n",
              "    }\n",
              "\n",
              "    .dataframe tbody tr th {\n",
              "        vertical-align: top;\n",
              "    }\n",
              "\n",
              "    .dataframe thead th {\n",
              "        text-align: right;\n",
              "    }\n",
              "</style>\n",
              "<table border=\"1\" class=\"dataframe\">\n",
              "  <thead>\n",
              "    <tr style=\"text-align: right;\">\n",
              "      <th></th>\n",
              "      <th>area</th>\n",
              "      <th>pop</th>\n",
              "    </tr>\n",
              "  </thead>\n",
              "  <tbody>\n",
              "    <tr>\n",
              "      <th>California</th>\n",
              "      <td>423967</td>\n",
              "      <td>38332521</td>\n",
              "    </tr>\n",
              "    <tr>\n",
              "      <th>Texas</th>\n",
              "      <td>695662</td>\n",
              "      <td>26448193</td>\n",
              "    </tr>\n",
              "    <tr>\n",
              "      <th>New York</th>\n",
              "      <td>141297</td>\n",
              "      <td>19651127</td>\n",
              "    </tr>\n",
              "  </tbody>\n",
              "</table>\n",
              "</div>\n",
              "      <button class=\"colab-df-convert\" onclick=\"convertToInteractive('df-2e6361a2-35fe-4237-a8e8-66573c5e301a')\"\n",
              "              title=\"Convert this dataframe to an interactive table.\"\n",
              "              style=\"display:none;\">\n",
              "        \n",
              "  <svg xmlns=\"http://www.w3.org/2000/svg\" height=\"24px\"viewBox=\"0 0 24 24\"\n",
              "       width=\"24px\">\n",
              "    <path d=\"M0 0h24v24H0V0z\" fill=\"none\"/>\n",
              "    <path d=\"M18.56 5.44l.94 2.06.94-2.06 2.06-.94-2.06-.94-.94-2.06-.94 2.06-2.06.94zm-11 1L8.5 8.5l.94-2.06 2.06-.94-2.06-.94L8.5 2.5l-.94 2.06-2.06.94zm10 10l.94 2.06.94-2.06 2.06-.94-2.06-.94-.94-2.06-.94 2.06-2.06.94z\"/><path d=\"M17.41 7.96l-1.37-1.37c-.4-.4-.92-.59-1.43-.59-.52 0-1.04.2-1.43.59L10.3 9.45l-7.72 7.72c-.78.78-.78 2.05 0 2.83L4 21.41c.39.39.9.59 1.41.59.51 0 1.02-.2 1.41-.59l7.78-7.78 2.81-2.81c.8-.78.8-2.07 0-2.86zM5.41 20L4 18.59l7.72-7.72 1.47 1.35L5.41 20z\"/>\n",
              "  </svg>\n",
              "      </button>\n",
              "      \n",
              "  <style>\n",
              "    .colab-df-container {\n",
              "      display:flex;\n",
              "      flex-wrap:wrap;\n",
              "      gap: 12px;\n",
              "    }\n",
              "\n",
              "    .colab-df-convert {\n",
              "      background-color: #E8F0FE;\n",
              "      border: none;\n",
              "      border-radius: 50%;\n",
              "      cursor: pointer;\n",
              "      display: none;\n",
              "      fill: #1967D2;\n",
              "      height: 32px;\n",
              "      padding: 0 0 0 0;\n",
              "      width: 32px;\n",
              "    }\n",
              "\n",
              "    .colab-df-convert:hover {\n",
              "      background-color: #E2EBFA;\n",
              "      box-shadow: 0px 1px 2px rgba(60, 64, 67, 0.3), 0px 1px 3px 1px rgba(60, 64, 67, 0.15);\n",
              "      fill: #174EA6;\n",
              "    }\n",
              "\n",
              "    [theme=dark] .colab-df-convert {\n",
              "      background-color: #3B4455;\n",
              "      fill: #D2E3FC;\n",
              "    }\n",
              "\n",
              "    [theme=dark] .colab-df-convert:hover {\n",
              "      background-color: #434B5C;\n",
              "      box-shadow: 0px 1px 3px 1px rgba(0, 0, 0, 0.15);\n",
              "      filter: drop-shadow(0px 1px 2px rgba(0, 0, 0, 0.3));\n",
              "      fill: #FFFFFF;\n",
              "    }\n",
              "  </style>\n",
              "\n",
              "      <script>\n",
              "        const buttonEl =\n",
              "          document.querySelector('#df-2e6361a2-35fe-4237-a8e8-66573c5e301a button.colab-df-convert');\n",
              "        buttonEl.style.display =\n",
              "          google.colab.kernel.accessAllowed ? 'block' : 'none';\n",
              "\n",
              "        async function convertToInteractive(key) {\n",
              "          const element = document.querySelector('#df-2e6361a2-35fe-4237-a8e8-66573c5e301a');\n",
              "          const dataTable =\n",
              "            await google.colab.kernel.invokeFunction('convertToInteractive',\n",
              "                                                     [key], {});\n",
              "          if (!dataTable) return;\n",
              "\n",
              "          const docLinkHtml = 'Like what you see? Visit the ' +\n",
              "            '<a target=\"_blank\" href=https://colab.research.google.com/notebooks/data_table.ipynb>data table notebook</a>'\n",
              "            + ' to learn more about interactive tables.';\n",
              "          element.innerHTML = '';\n",
              "          dataTable['output_type'] = 'display_data';\n",
              "          await google.colab.output.renderOutput(dataTable, element);\n",
              "          const docLink = document.createElement('div');\n",
              "          docLink.innerHTML = docLinkHtml;\n",
              "          element.appendChild(docLink);\n",
              "        }\n",
              "      </script>\n",
              "    </div>\n",
              "  </div>\n",
              "  "
            ]
          },
          "metadata": {},
          "execution_count": 33
        }
      ]
    },
    {
      "cell_type": "markdown",
      "source": [
        "* Da mesma forma, usando `loc`, podemos indexar o arranjo subjacente, mas com o índice de forma explícita e os nomes das colunas."
      ],
      "metadata": {
        "id": "G_q0yCMhlubZ"
      }
    },
    {
      "cell_type": "code",
      "source": [
        "data.loc[:'New York', :'pop']"
      ],
      "metadata": {
        "colab": {
          "base_uri": "https://localhost:8080/",
          "height": 143
        },
        "id": "ABqjE0bPltGc",
        "outputId": "bf1ade6a-3061-4b10-e0a8-3be41ddda5a9"
      },
      "execution_count": 34,
      "outputs": [
        {
          "output_type": "execute_result",
          "data": {
            "text/plain": [
              "              area       pop\n",
              "California  423967  38332521\n",
              "Texas       695662  26448193\n",
              "New York    141297  19651127"
            ],
            "text/html": [
              "\n",
              "  <div id=\"df-6ee960df-d1ec-4985-876a-ab5f2385e246\">\n",
              "    <div class=\"colab-df-container\">\n",
              "      <div>\n",
              "<style scoped>\n",
              "    .dataframe tbody tr th:only-of-type {\n",
              "        vertical-align: middle;\n",
              "    }\n",
              "\n",
              "    .dataframe tbody tr th {\n",
              "        vertical-align: top;\n",
              "    }\n",
              "\n",
              "    .dataframe thead th {\n",
              "        text-align: right;\n",
              "    }\n",
              "</style>\n",
              "<table border=\"1\" class=\"dataframe\">\n",
              "  <thead>\n",
              "    <tr style=\"text-align: right;\">\n",
              "      <th></th>\n",
              "      <th>area</th>\n",
              "      <th>pop</th>\n",
              "    </tr>\n",
              "  </thead>\n",
              "  <tbody>\n",
              "    <tr>\n",
              "      <th>California</th>\n",
              "      <td>423967</td>\n",
              "      <td>38332521</td>\n",
              "    </tr>\n",
              "    <tr>\n",
              "      <th>Texas</th>\n",
              "      <td>695662</td>\n",
              "      <td>26448193</td>\n",
              "    </tr>\n",
              "    <tr>\n",
              "      <th>New York</th>\n",
              "      <td>141297</td>\n",
              "      <td>19651127</td>\n",
              "    </tr>\n",
              "  </tbody>\n",
              "</table>\n",
              "</div>\n",
              "      <button class=\"colab-df-convert\" onclick=\"convertToInteractive('df-6ee960df-d1ec-4985-876a-ab5f2385e246')\"\n",
              "              title=\"Convert this dataframe to an interactive table.\"\n",
              "              style=\"display:none;\">\n",
              "        \n",
              "  <svg xmlns=\"http://www.w3.org/2000/svg\" height=\"24px\"viewBox=\"0 0 24 24\"\n",
              "       width=\"24px\">\n",
              "    <path d=\"M0 0h24v24H0V0z\" fill=\"none\"/>\n",
              "    <path d=\"M18.56 5.44l.94 2.06.94-2.06 2.06-.94-2.06-.94-.94-2.06-.94 2.06-2.06.94zm-11 1L8.5 8.5l.94-2.06 2.06-.94-2.06-.94L8.5 2.5l-.94 2.06-2.06.94zm10 10l.94 2.06.94-2.06 2.06-.94-2.06-.94-.94-2.06-.94 2.06-2.06.94z\"/><path d=\"M17.41 7.96l-1.37-1.37c-.4-.4-.92-.59-1.43-.59-.52 0-1.04.2-1.43.59L10.3 9.45l-7.72 7.72c-.78.78-.78 2.05 0 2.83L4 21.41c.39.39.9.59 1.41.59.51 0 1.02-.2 1.41-.59l7.78-7.78 2.81-2.81c.8-.78.8-2.07 0-2.86zM5.41 20L4 18.59l7.72-7.72 1.47 1.35L5.41 20z\"/>\n",
              "  </svg>\n",
              "      </button>\n",
              "      \n",
              "  <style>\n",
              "    .colab-df-container {\n",
              "      display:flex;\n",
              "      flex-wrap:wrap;\n",
              "      gap: 12px;\n",
              "    }\n",
              "\n",
              "    .colab-df-convert {\n",
              "      background-color: #E8F0FE;\n",
              "      border: none;\n",
              "      border-radius: 50%;\n",
              "      cursor: pointer;\n",
              "      display: none;\n",
              "      fill: #1967D2;\n",
              "      height: 32px;\n",
              "      padding: 0 0 0 0;\n",
              "      width: 32px;\n",
              "    }\n",
              "\n",
              "    .colab-df-convert:hover {\n",
              "      background-color: #E2EBFA;\n",
              "      box-shadow: 0px 1px 2px rgba(60, 64, 67, 0.3), 0px 1px 3px 1px rgba(60, 64, 67, 0.15);\n",
              "      fill: #174EA6;\n",
              "    }\n",
              "\n",
              "    [theme=dark] .colab-df-convert {\n",
              "      background-color: #3B4455;\n",
              "      fill: #D2E3FC;\n",
              "    }\n",
              "\n",
              "    [theme=dark] .colab-df-convert:hover {\n",
              "      background-color: #434B5C;\n",
              "      box-shadow: 0px 1px 3px 1px rgba(0, 0, 0, 0.15);\n",
              "      filter: drop-shadow(0px 1px 2px rgba(0, 0, 0, 0.3));\n",
              "      fill: #FFFFFF;\n",
              "    }\n",
              "  </style>\n",
              "\n",
              "      <script>\n",
              "        const buttonEl =\n",
              "          document.querySelector('#df-6ee960df-d1ec-4985-876a-ab5f2385e246 button.colab-df-convert');\n",
              "        buttonEl.style.display =\n",
              "          google.colab.kernel.accessAllowed ? 'block' : 'none';\n",
              "\n",
              "        async function convertToInteractive(key) {\n",
              "          const element = document.querySelector('#df-6ee960df-d1ec-4985-876a-ab5f2385e246');\n",
              "          const dataTable =\n",
              "            await google.colab.kernel.invokeFunction('convertToInteractive',\n",
              "                                                     [key], {});\n",
              "          if (!dataTable) return;\n",
              "\n",
              "          const docLinkHtml = 'Like what you see? Visit the ' +\n",
              "            '<a target=\"_blank\" href=https://colab.research.google.com/notebooks/data_table.ipynb>data table notebook</a>'\n",
              "            + ' to learn more about interactive tables.';\n",
              "          element.innerHTML = '';\n",
              "          dataTable['output_type'] = 'display_data';\n",
              "          await google.colab.output.renderOutput(dataTable, element);\n",
              "          const docLink = document.createElement('div');\n",
              "          docLink.innerHTML = docLinkHtml;\n",
              "          element.appendChild(docLink);\n",
              "        }\n",
              "      </script>\n",
              "    </div>\n",
              "  </div>\n",
              "  "
            ]
          },
          "metadata": {},
          "execution_count": 34
        }
      ]
    },
    {
      "cell_type": "markdown",
      "source": [
        "* Qualquer forma de acesso de um arranjo pode ser usada com esses indexadores.\n",
        "* Por exemplo, podemos usar `loc` e combiná-lo com masking e fancy indexing:"
      ],
      "metadata": {
        "id": "5P2Axey6lxPM"
      }
    },
    {
      "cell_type": "code",
      "source": [
        "data.loc[(data.density > 100) & (data.area < 170000), ['pop', 'area']]"
      ],
      "metadata": {
        "colab": {
          "base_uri": "https://localhost:8080/",
          "height": 81
        },
        "id": "SWjKcwDrlvz-",
        "outputId": "ead63ca0-70f2-40b5-c820-5d2afd65da53"
      },
      "execution_count": 35,
      "outputs": [
        {
          "output_type": "execute_result",
          "data": {
            "text/plain": [
              "               pop    area\n",
              "New York  19651127  141297"
            ],
            "text/html": [
              "\n",
              "  <div id=\"df-85fa37b0-92b4-4fbd-91aa-2cd46fd7573b\">\n",
              "    <div class=\"colab-df-container\">\n",
              "      <div>\n",
              "<style scoped>\n",
              "    .dataframe tbody tr th:only-of-type {\n",
              "        vertical-align: middle;\n",
              "    }\n",
              "\n",
              "    .dataframe tbody tr th {\n",
              "        vertical-align: top;\n",
              "    }\n",
              "\n",
              "    .dataframe thead th {\n",
              "        text-align: right;\n",
              "    }\n",
              "</style>\n",
              "<table border=\"1\" class=\"dataframe\">\n",
              "  <thead>\n",
              "    <tr style=\"text-align: right;\">\n",
              "      <th></th>\n",
              "      <th>pop</th>\n",
              "      <th>area</th>\n",
              "    </tr>\n",
              "  </thead>\n",
              "  <tbody>\n",
              "    <tr>\n",
              "      <th>New York</th>\n",
              "      <td>19651127</td>\n",
              "      <td>141297</td>\n",
              "    </tr>\n",
              "  </tbody>\n",
              "</table>\n",
              "</div>\n",
              "      <button class=\"colab-df-convert\" onclick=\"convertToInteractive('df-85fa37b0-92b4-4fbd-91aa-2cd46fd7573b')\"\n",
              "              title=\"Convert this dataframe to an interactive table.\"\n",
              "              style=\"display:none;\">\n",
              "        \n",
              "  <svg xmlns=\"http://www.w3.org/2000/svg\" height=\"24px\"viewBox=\"0 0 24 24\"\n",
              "       width=\"24px\">\n",
              "    <path d=\"M0 0h24v24H0V0z\" fill=\"none\"/>\n",
              "    <path d=\"M18.56 5.44l.94 2.06.94-2.06 2.06-.94-2.06-.94-.94-2.06-.94 2.06-2.06.94zm-11 1L8.5 8.5l.94-2.06 2.06-.94-2.06-.94L8.5 2.5l-.94 2.06-2.06.94zm10 10l.94 2.06.94-2.06 2.06-.94-2.06-.94-.94-2.06-.94 2.06-2.06.94z\"/><path d=\"M17.41 7.96l-1.37-1.37c-.4-.4-.92-.59-1.43-.59-.52 0-1.04.2-1.43.59L10.3 9.45l-7.72 7.72c-.78.78-.78 2.05 0 2.83L4 21.41c.39.39.9.59 1.41.59.51 0 1.02-.2 1.41-.59l7.78-7.78 2.81-2.81c.8-.78.8-2.07 0-2.86zM5.41 20L4 18.59l7.72-7.72 1.47 1.35L5.41 20z\"/>\n",
              "  </svg>\n",
              "      </button>\n",
              "      \n",
              "  <style>\n",
              "    .colab-df-container {\n",
              "      display:flex;\n",
              "      flex-wrap:wrap;\n",
              "      gap: 12px;\n",
              "    }\n",
              "\n",
              "    .colab-df-convert {\n",
              "      background-color: #E8F0FE;\n",
              "      border: none;\n",
              "      border-radius: 50%;\n",
              "      cursor: pointer;\n",
              "      display: none;\n",
              "      fill: #1967D2;\n",
              "      height: 32px;\n",
              "      padding: 0 0 0 0;\n",
              "      width: 32px;\n",
              "    }\n",
              "\n",
              "    .colab-df-convert:hover {\n",
              "      background-color: #E2EBFA;\n",
              "      box-shadow: 0px 1px 2px rgba(60, 64, 67, 0.3), 0px 1px 3px 1px rgba(60, 64, 67, 0.15);\n",
              "      fill: #174EA6;\n",
              "    }\n",
              "\n",
              "    [theme=dark] .colab-df-convert {\n",
              "      background-color: #3B4455;\n",
              "      fill: #D2E3FC;\n",
              "    }\n",
              "\n",
              "    [theme=dark] .colab-df-convert:hover {\n",
              "      background-color: #434B5C;\n",
              "      box-shadow: 0px 1px 3px 1px rgba(0, 0, 0, 0.15);\n",
              "      filter: drop-shadow(0px 1px 2px rgba(0, 0, 0, 0.3));\n",
              "      fill: #FFFFFF;\n",
              "    }\n",
              "  </style>\n",
              "\n",
              "      <script>\n",
              "        const buttonEl =\n",
              "          document.querySelector('#df-85fa37b0-92b4-4fbd-91aa-2cd46fd7573b button.colab-df-convert');\n",
              "        buttonEl.style.display =\n",
              "          google.colab.kernel.accessAllowed ? 'block' : 'none';\n",
              "\n",
              "        async function convertToInteractive(key) {\n",
              "          const element = document.querySelector('#df-85fa37b0-92b4-4fbd-91aa-2cd46fd7573b');\n",
              "          const dataTable =\n",
              "            await google.colab.kernel.invokeFunction('convertToInteractive',\n",
              "                                                     [key], {});\n",
              "          if (!dataTable) return;\n",
              "\n",
              "          const docLinkHtml = 'Like what you see? Visit the ' +\n",
              "            '<a target=\"_blank\" href=https://colab.research.google.com/notebooks/data_table.ipynb>data table notebook</a>'\n",
              "            + ' to learn more about interactive tables.';\n",
              "          element.innerHTML = '';\n",
              "          dataTable['output_type'] = 'display_data';\n",
              "          await google.colab.output.renderOutput(dataTable, element);\n",
              "          const docLink = document.createElement('div');\n",
              "          docLink.innerHTML = docLinkHtml;\n",
              "          element.appendChild(docLink);\n",
              "        }\n",
              "      </script>\n",
              "    </div>\n",
              "  </div>\n",
              "  "
            ]
          },
          "metadata": {},
          "execution_count": 35
        }
      ]
    },
    {
      "cell_type": "markdown",
      "source": [
        "* Qualquer uma dessas formas de indexação pode ser usada para atribuir ou modificar valores:"
      ],
      "metadata": {
        "id": "8JqwJ7qvlz2Q"
      }
    },
    {
      "cell_type": "code",
      "source": [
        "data.iloc[0, 1] = 90\n",
        "data"
      ],
      "metadata": {
        "colab": {
          "base_uri": "https://localhost:8080/",
          "height": 206
        },
        "id": "llYJUg4glypt",
        "outputId": "3923f804-d723-401c-b323-33cf8dca97b9"
      },
      "execution_count": 36,
      "outputs": [
        {
          "output_type": "execute_result",
          "data": {
            "text/plain": [
              "              area       pop     density    pop_k\n",
              "California  423967        90   90.413926  38333.0\n",
              "Texas       695662  26448193   38.018740  26448.0\n",
              "New York    141297  19651127  139.076746  19651.0\n",
              "Florida     170312  19552860  114.806121  19553.0\n",
              "Illinois    149995  12882135   85.883763  12882.0"
            ],
            "text/html": [
              "\n",
              "  <div id=\"df-290eb99a-cc51-4893-8855-389b3d1c84fe\">\n",
              "    <div class=\"colab-df-container\">\n",
              "      <div>\n",
              "<style scoped>\n",
              "    .dataframe tbody tr th:only-of-type {\n",
              "        vertical-align: middle;\n",
              "    }\n",
              "\n",
              "    .dataframe tbody tr th {\n",
              "        vertical-align: top;\n",
              "    }\n",
              "\n",
              "    .dataframe thead th {\n",
              "        text-align: right;\n",
              "    }\n",
              "</style>\n",
              "<table border=\"1\" class=\"dataframe\">\n",
              "  <thead>\n",
              "    <tr style=\"text-align: right;\">\n",
              "      <th></th>\n",
              "      <th>area</th>\n",
              "      <th>pop</th>\n",
              "      <th>density</th>\n",
              "      <th>pop_k</th>\n",
              "    </tr>\n",
              "  </thead>\n",
              "  <tbody>\n",
              "    <tr>\n",
              "      <th>California</th>\n",
              "      <td>423967</td>\n",
              "      <td>90</td>\n",
              "      <td>90.413926</td>\n",
              "      <td>38333.0</td>\n",
              "    </tr>\n",
              "    <tr>\n",
              "      <th>Texas</th>\n",
              "      <td>695662</td>\n",
              "      <td>26448193</td>\n",
              "      <td>38.018740</td>\n",
              "      <td>26448.0</td>\n",
              "    </tr>\n",
              "    <tr>\n",
              "      <th>New York</th>\n",
              "      <td>141297</td>\n",
              "      <td>19651127</td>\n",
              "      <td>139.076746</td>\n",
              "      <td>19651.0</td>\n",
              "    </tr>\n",
              "    <tr>\n",
              "      <th>Florida</th>\n",
              "      <td>170312</td>\n",
              "      <td>19552860</td>\n",
              "      <td>114.806121</td>\n",
              "      <td>19553.0</td>\n",
              "    </tr>\n",
              "    <tr>\n",
              "      <th>Illinois</th>\n",
              "      <td>149995</td>\n",
              "      <td>12882135</td>\n",
              "      <td>85.883763</td>\n",
              "      <td>12882.0</td>\n",
              "    </tr>\n",
              "  </tbody>\n",
              "</table>\n",
              "</div>\n",
              "      <button class=\"colab-df-convert\" onclick=\"convertToInteractive('df-290eb99a-cc51-4893-8855-389b3d1c84fe')\"\n",
              "              title=\"Convert this dataframe to an interactive table.\"\n",
              "              style=\"display:none;\">\n",
              "        \n",
              "  <svg xmlns=\"http://www.w3.org/2000/svg\" height=\"24px\"viewBox=\"0 0 24 24\"\n",
              "       width=\"24px\">\n",
              "    <path d=\"M0 0h24v24H0V0z\" fill=\"none\"/>\n",
              "    <path d=\"M18.56 5.44l.94 2.06.94-2.06 2.06-.94-2.06-.94-.94-2.06-.94 2.06-2.06.94zm-11 1L8.5 8.5l.94-2.06 2.06-.94-2.06-.94L8.5 2.5l-.94 2.06-2.06.94zm10 10l.94 2.06.94-2.06 2.06-.94-2.06-.94-.94-2.06-.94 2.06-2.06.94z\"/><path d=\"M17.41 7.96l-1.37-1.37c-.4-.4-.92-.59-1.43-.59-.52 0-1.04.2-1.43.59L10.3 9.45l-7.72 7.72c-.78.78-.78 2.05 0 2.83L4 21.41c.39.39.9.59 1.41.59.51 0 1.02-.2 1.41-.59l7.78-7.78 2.81-2.81c.8-.78.8-2.07 0-2.86zM5.41 20L4 18.59l7.72-7.72 1.47 1.35L5.41 20z\"/>\n",
              "  </svg>\n",
              "      </button>\n",
              "      \n",
              "  <style>\n",
              "    .colab-df-container {\n",
              "      display:flex;\n",
              "      flex-wrap:wrap;\n",
              "      gap: 12px;\n",
              "    }\n",
              "\n",
              "    .colab-df-convert {\n",
              "      background-color: #E8F0FE;\n",
              "      border: none;\n",
              "      border-radius: 50%;\n",
              "      cursor: pointer;\n",
              "      display: none;\n",
              "      fill: #1967D2;\n",
              "      height: 32px;\n",
              "      padding: 0 0 0 0;\n",
              "      width: 32px;\n",
              "    }\n",
              "\n",
              "    .colab-df-convert:hover {\n",
              "      background-color: #E2EBFA;\n",
              "      box-shadow: 0px 1px 2px rgba(60, 64, 67, 0.3), 0px 1px 3px 1px rgba(60, 64, 67, 0.15);\n",
              "      fill: #174EA6;\n",
              "    }\n",
              "\n",
              "    [theme=dark] .colab-df-convert {\n",
              "      background-color: #3B4455;\n",
              "      fill: #D2E3FC;\n",
              "    }\n",
              "\n",
              "    [theme=dark] .colab-df-convert:hover {\n",
              "      background-color: #434B5C;\n",
              "      box-shadow: 0px 1px 3px 1px rgba(0, 0, 0, 0.15);\n",
              "      filter: drop-shadow(0px 1px 2px rgba(0, 0, 0, 0.3));\n",
              "      fill: #FFFFFF;\n",
              "    }\n",
              "  </style>\n",
              "\n",
              "      <script>\n",
              "        const buttonEl =\n",
              "          document.querySelector('#df-290eb99a-cc51-4893-8855-389b3d1c84fe button.colab-df-convert');\n",
              "        buttonEl.style.display =\n",
              "          google.colab.kernel.accessAllowed ? 'block' : 'none';\n",
              "\n",
              "        async function convertToInteractive(key) {\n",
              "          const element = document.querySelector('#df-290eb99a-cc51-4893-8855-389b3d1c84fe');\n",
              "          const dataTable =\n",
              "            await google.colab.kernel.invokeFunction('convertToInteractive',\n",
              "                                                     [key], {});\n",
              "          if (!dataTable) return;\n",
              "\n",
              "          const docLinkHtml = 'Like what you see? Visit the ' +\n",
              "            '<a target=\"_blank\" href=https://colab.research.google.com/notebooks/data_table.ipynb>data table notebook</a>'\n",
              "            + ' to learn more about interactive tables.';\n",
              "          element.innerHTML = '';\n",
              "          dataTable['output_type'] = 'display_data';\n",
              "          await google.colab.output.renderOutput(dataTable, element);\n",
              "          const docLink = document.createElement('div');\n",
              "          docLink.innerHTML = docLinkHtml;\n",
              "          element.appendChild(docLink);\n",
              "        }\n",
              "      </script>\n",
              "    </div>\n",
              "  </div>\n",
              "  "
            ]
          },
          "metadata": {},
          "execution_count": 36
        }
      ]
    },
    {
      "cell_type": "markdown",
      "source": [
        "* Note no exemplo anterior que a alteração no valor 'pop' da 'California' não refletiu em um novo valor de 'density'. "
      ],
      "metadata": {
        "id": "bJ_tr1Sol2Zr"
      }
    },
    {
      "cell_type": "markdown",
      "source": [
        "#### Algumas convenções adicionais para indexar.\n",
        "\n",
        "* Em geral, “indexing” se refere a colunas e “slicing”, a linhas:"
      ],
      "metadata": {
        "id": "A4FWV__Bl30a"
      }
    },
    {
      "cell_type": "code",
      "source": [
        "data['Florida':'Illinois']"
      ],
      "metadata": {
        "colab": {
          "base_uri": "https://localhost:8080/",
          "height": 112
        },
        "id": "lZa3tewTl1Dp",
        "outputId": "5eaeb4f2-96e8-4aba-c5ea-250258ce87ca"
      },
      "execution_count": 37,
      "outputs": [
        {
          "output_type": "execute_result",
          "data": {
            "text/plain": [
              "            area       pop     density    pop_k\n",
              "Florida   170312  19552860  114.806121  19553.0\n",
              "Illinois  149995  12882135   85.883763  12882.0"
            ],
            "text/html": [
              "\n",
              "  <div id=\"df-467ac017-2424-41fa-98ef-759cee2d802f\">\n",
              "    <div class=\"colab-df-container\">\n",
              "      <div>\n",
              "<style scoped>\n",
              "    .dataframe tbody tr th:only-of-type {\n",
              "        vertical-align: middle;\n",
              "    }\n",
              "\n",
              "    .dataframe tbody tr th {\n",
              "        vertical-align: top;\n",
              "    }\n",
              "\n",
              "    .dataframe thead th {\n",
              "        text-align: right;\n",
              "    }\n",
              "</style>\n",
              "<table border=\"1\" class=\"dataframe\">\n",
              "  <thead>\n",
              "    <tr style=\"text-align: right;\">\n",
              "      <th></th>\n",
              "      <th>area</th>\n",
              "      <th>pop</th>\n",
              "      <th>density</th>\n",
              "      <th>pop_k</th>\n",
              "    </tr>\n",
              "  </thead>\n",
              "  <tbody>\n",
              "    <tr>\n",
              "      <th>Florida</th>\n",
              "      <td>170312</td>\n",
              "      <td>19552860</td>\n",
              "      <td>114.806121</td>\n",
              "      <td>19553.0</td>\n",
              "    </tr>\n",
              "    <tr>\n",
              "      <th>Illinois</th>\n",
              "      <td>149995</td>\n",
              "      <td>12882135</td>\n",
              "      <td>85.883763</td>\n",
              "      <td>12882.0</td>\n",
              "    </tr>\n",
              "  </tbody>\n",
              "</table>\n",
              "</div>\n",
              "      <button class=\"colab-df-convert\" onclick=\"convertToInteractive('df-467ac017-2424-41fa-98ef-759cee2d802f')\"\n",
              "              title=\"Convert this dataframe to an interactive table.\"\n",
              "              style=\"display:none;\">\n",
              "        \n",
              "  <svg xmlns=\"http://www.w3.org/2000/svg\" height=\"24px\"viewBox=\"0 0 24 24\"\n",
              "       width=\"24px\">\n",
              "    <path d=\"M0 0h24v24H0V0z\" fill=\"none\"/>\n",
              "    <path d=\"M18.56 5.44l.94 2.06.94-2.06 2.06-.94-2.06-.94-.94-2.06-.94 2.06-2.06.94zm-11 1L8.5 8.5l.94-2.06 2.06-.94-2.06-.94L8.5 2.5l-.94 2.06-2.06.94zm10 10l.94 2.06.94-2.06 2.06-.94-2.06-.94-.94-2.06-.94 2.06-2.06.94z\"/><path d=\"M17.41 7.96l-1.37-1.37c-.4-.4-.92-.59-1.43-.59-.52 0-1.04.2-1.43.59L10.3 9.45l-7.72 7.72c-.78.78-.78 2.05 0 2.83L4 21.41c.39.39.9.59 1.41.59.51 0 1.02-.2 1.41-.59l7.78-7.78 2.81-2.81c.8-.78.8-2.07 0-2.86zM5.41 20L4 18.59l7.72-7.72 1.47 1.35L5.41 20z\"/>\n",
              "  </svg>\n",
              "      </button>\n",
              "      \n",
              "  <style>\n",
              "    .colab-df-container {\n",
              "      display:flex;\n",
              "      flex-wrap:wrap;\n",
              "      gap: 12px;\n",
              "    }\n",
              "\n",
              "    .colab-df-convert {\n",
              "      background-color: #E8F0FE;\n",
              "      border: none;\n",
              "      border-radius: 50%;\n",
              "      cursor: pointer;\n",
              "      display: none;\n",
              "      fill: #1967D2;\n",
              "      height: 32px;\n",
              "      padding: 0 0 0 0;\n",
              "      width: 32px;\n",
              "    }\n",
              "\n",
              "    .colab-df-convert:hover {\n",
              "      background-color: #E2EBFA;\n",
              "      box-shadow: 0px 1px 2px rgba(60, 64, 67, 0.3), 0px 1px 3px 1px rgba(60, 64, 67, 0.15);\n",
              "      fill: #174EA6;\n",
              "    }\n",
              "\n",
              "    [theme=dark] .colab-df-convert {\n",
              "      background-color: #3B4455;\n",
              "      fill: #D2E3FC;\n",
              "    }\n",
              "\n",
              "    [theme=dark] .colab-df-convert:hover {\n",
              "      background-color: #434B5C;\n",
              "      box-shadow: 0px 1px 3px 1px rgba(0, 0, 0, 0.15);\n",
              "      filter: drop-shadow(0px 1px 2px rgba(0, 0, 0, 0.3));\n",
              "      fill: #FFFFFF;\n",
              "    }\n",
              "  </style>\n",
              "\n",
              "      <script>\n",
              "        const buttonEl =\n",
              "          document.querySelector('#df-467ac017-2424-41fa-98ef-759cee2d802f button.colab-df-convert');\n",
              "        buttonEl.style.display =\n",
              "          google.colab.kernel.accessAllowed ? 'block' : 'none';\n",
              "\n",
              "        async function convertToInteractive(key) {\n",
              "          const element = document.querySelector('#df-467ac017-2424-41fa-98ef-759cee2d802f');\n",
              "          const dataTable =\n",
              "            await google.colab.kernel.invokeFunction('convertToInteractive',\n",
              "                                                     [key], {});\n",
              "          if (!dataTable) return;\n",
              "\n",
              "          const docLinkHtml = 'Like what you see? Visit the ' +\n",
              "            '<a target=\"_blank\" href=https://colab.research.google.com/notebooks/data_table.ipynb>data table notebook</a>'\n",
              "            + ' to learn more about interactive tables.';\n",
              "          element.innerHTML = '';\n",
              "          dataTable['output_type'] = 'display_data';\n",
              "          await google.colab.output.renderOutput(dataTable, element);\n",
              "          const docLink = document.createElement('div');\n",
              "          docLink.innerHTML = docLinkHtml;\n",
              "          element.appendChild(docLink);\n",
              "        }\n",
              "      </script>\n",
              "    </div>\n",
              "  </div>\n",
              "  "
            ]
          },
          "metadata": {},
          "execution_count": 37
        }
      ]
    },
    {
      "cell_type": "markdown",
      "source": [
        "* Por padrão, “fancy indexing” é realizado de forma explícita e nas colunas."
      ],
      "metadata": {
        "id": "xyQKrxKTl6Pe"
      }
    },
    {
      "cell_type": "code",
      "source": [
        "data[['area','density']]"
      ],
      "metadata": {
        "colab": {
          "base_uri": "https://localhost:8080/",
          "height": 206
        },
        "id": "jJ61HW5yl5BB",
        "outputId": "4682acc5-f1a1-42e3-a707-aff94256361e"
      },
      "execution_count": 38,
      "outputs": [
        {
          "output_type": "execute_result",
          "data": {
            "text/plain": [
              "              area     density\n",
              "California  423967   90.413926\n",
              "Texas       695662   38.018740\n",
              "New York    141297  139.076746\n",
              "Florida     170312  114.806121\n",
              "Illinois    149995   85.883763"
            ],
            "text/html": [
              "\n",
              "  <div id=\"df-e1ced51e-250a-4714-8613-4b21edcda41a\">\n",
              "    <div class=\"colab-df-container\">\n",
              "      <div>\n",
              "<style scoped>\n",
              "    .dataframe tbody tr th:only-of-type {\n",
              "        vertical-align: middle;\n",
              "    }\n",
              "\n",
              "    .dataframe tbody tr th {\n",
              "        vertical-align: top;\n",
              "    }\n",
              "\n",
              "    .dataframe thead th {\n",
              "        text-align: right;\n",
              "    }\n",
              "</style>\n",
              "<table border=\"1\" class=\"dataframe\">\n",
              "  <thead>\n",
              "    <tr style=\"text-align: right;\">\n",
              "      <th></th>\n",
              "      <th>area</th>\n",
              "      <th>density</th>\n",
              "    </tr>\n",
              "  </thead>\n",
              "  <tbody>\n",
              "    <tr>\n",
              "      <th>California</th>\n",
              "      <td>423967</td>\n",
              "      <td>90.413926</td>\n",
              "    </tr>\n",
              "    <tr>\n",
              "      <th>Texas</th>\n",
              "      <td>695662</td>\n",
              "      <td>38.018740</td>\n",
              "    </tr>\n",
              "    <tr>\n",
              "      <th>New York</th>\n",
              "      <td>141297</td>\n",
              "      <td>139.076746</td>\n",
              "    </tr>\n",
              "    <tr>\n",
              "      <th>Florida</th>\n",
              "      <td>170312</td>\n",
              "      <td>114.806121</td>\n",
              "    </tr>\n",
              "    <tr>\n",
              "      <th>Illinois</th>\n",
              "      <td>149995</td>\n",
              "      <td>85.883763</td>\n",
              "    </tr>\n",
              "  </tbody>\n",
              "</table>\n",
              "</div>\n",
              "      <button class=\"colab-df-convert\" onclick=\"convertToInteractive('df-e1ced51e-250a-4714-8613-4b21edcda41a')\"\n",
              "              title=\"Convert this dataframe to an interactive table.\"\n",
              "              style=\"display:none;\">\n",
              "        \n",
              "  <svg xmlns=\"http://www.w3.org/2000/svg\" height=\"24px\"viewBox=\"0 0 24 24\"\n",
              "       width=\"24px\">\n",
              "    <path d=\"M0 0h24v24H0V0z\" fill=\"none\"/>\n",
              "    <path d=\"M18.56 5.44l.94 2.06.94-2.06 2.06-.94-2.06-.94-.94-2.06-.94 2.06-2.06.94zm-11 1L8.5 8.5l.94-2.06 2.06-.94-2.06-.94L8.5 2.5l-.94 2.06-2.06.94zm10 10l.94 2.06.94-2.06 2.06-.94-2.06-.94-.94-2.06-.94 2.06-2.06.94z\"/><path d=\"M17.41 7.96l-1.37-1.37c-.4-.4-.92-.59-1.43-.59-.52 0-1.04.2-1.43.59L10.3 9.45l-7.72 7.72c-.78.78-.78 2.05 0 2.83L4 21.41c.39.39.9.59 1.41.59.51 0 1.02-.2 1.41-.59l7.78-7.78 2.81-2.81c.8-.78.8-2.07 0-2.86zM5.41 20L4 18.59l7.72-7.72 1.47 1.35L5.41 20z\"/>\n",
              "  </svg>\n",
              "      </button>\n",
              "      \n",
              "  <style>\n",
              "    .colab-df-container {\n",
              "      display:flex;\n",
              "      flex-wrap:wrap;\n",
              "      gap: 12px;\n",
              "    }\n",
              "\n",
              "    .colab-df-convert {\n",
              "      background-color: #E8F0FE;\n",
              "      border: none;\n",
              "      border-radius: 50%;\n",
              "      cursor: pointer;\n",
              "      display: none;\n",
              "      fill: #1967D2;\n",
              "      height: 32px;\n",
              "      padding: 0 0 0 0;\n",
              "      width: 32px;\n",
              "    }\n",
              "\n",
              "    .colab-df-convert:hover {\n",
              "      background-color: #E2EBFA;\n",
              "      box-shadow: 0px 1px 2px rgba(60, 64, 67, 0.3), 0px 1px 3px 1px rgba(60, 64, 67, 0.15);\n",
              "      fill: #174EA6;\n",
              "    }\n",
              "\n",
              "    [theme=dark] .colab-df-convert {\n",
              "      background-color: #3B4455;\n",
              "      fill: #D2E3FC;\n",
              "    }\n",
              "\n",
              "    [theme=dark] .colab-df-convert:hover {\n",
              "      background-color: #434B5C;\n",
              "      box-shadow: 0px 1px 3px 1px rgba(0, 0, 0, 0.15);\n",
              "      filter: drop-shadow(0px 1px 2px rgba(0, 0, 0, 0.3));\n",
              "      fill: #FFFFFF;\n",
              "    }\n",
              "  </style>\n",
              "\n",
              "      <script>\n",
              "        const buttonEl =\n",
              "          document.querySelector('#df-e1ced51e-250a-4714-8613-4b21edcda41a button.colab-df-convert');\n",
              "        buttonEl.style.display =\n",
              "          google.colab.kernel.accessAllowed ? 'block' : 'none';\n",
              "\n",
              "        async function convertToInteractive(key) {\n",
              "          const element = document.querySelector('#df-e1ced51e-250a-4714-8613-4b21edcda41a');\n",
              "          const dataTable =\n",
              "            await google.colab.kernel.invokeFunction('convertToInteractive',\n",
              "                                                     [key], {});\n",
              "          if (!dataTable) return;\n",
              "\n",
              "          const docLinkHtml = 'Like what you see? Visit the ' +\n",
              "            '<a target=\"_blank\" href=https://colab.research.google.com/notebooks/data_table.ipynb>data table notebook</a>'\n",
              "            + ' to learn more about interactive tables.';\n",
              "          element.innerHTML = '';\n",
              "          dataTable['output_type'] = 'display_data';\n",
              "          await google.colab.output.renderOutput(dataTable, element);\n",
              "          const docLink = document.createElement('div');\n",
              "          docLink.innerHTML = docLinkHtml;\n",
              "          element.appendChild(docLink);\n",
              "        }\n",
              "      </script>\n",
              "    </div>\n",
              "  </div>\n",
              "  "
            ]
          },
          "metadata": {},
          "execution_count": 38
        }
      ]
    },
    {
      "cell_type": "markdown",
      "source": [
        "* Esses slices também podem se referir a linhas pela posição, em vez de índices:"
      ],
      "metadata": {
        "id": "XCI7cIYEl9c6"
      }
    },
    {
      "cell_type": "code",
      "source": [
        "data[1:3]\n",
        "#data[1:]"
      ],
      "metadata": {
        "colab": {
          "base_uri": "https://localhost:8080/",
          "height": 112
        },
        "id": "CYMC6UKSl7q-",
        "outputId": "4275d2c1-f533-4720-b35a-3def4c22193e"
      },
      "execution_count": 39,
      "outputs": [
        {
          "output_type": "execute_result",
          "data": {
            "text/plain": [
              "            area       pop     density    pop_k\n",
              "Texas     695662  26448193   38.018740  26448.0\n",
              "New York  141297  19651127  139.076746  19651.0"
            ],
            "text/html": [
              "\n",
              "  <div id=\"df-abe1863d-487c-43ac-996c-5089349fb752\">\n",
              "    <div class=\"colab-df-container\">\n",
              "      <div>\n",
              "<style scoped>\n",
              "    .dataframe tbody tr th:only-of-type {\n",
              "        vertical-align: middle;\n",
              "    }\n",
              "\n",
              "    .dataframe tbody tr th {\n",
              "        vertical-align: top;\n",
              "    }\n",
              "\n",
              "    .dataframe thead th {\n",
              "        text-align: right;\n",
              "    }\n",
              "</style>\n",
              "<table border=\"1\" class=\"dataframe\">\n",
              "  <thead>\n",
              "    <tr style=\"text-align: right;\">\n",
              "      <th></th>\n",
              "      <th>area</th>\n",
              "      <th>pop</th>\n",
              "      <th>density</th>\n",
              "      <th>pop_k</th>\n",
              "    </tr>\n",
              "  </thead>\n",
              "  <tbody>\n",
              "    <tr>\n",
              "      <th>Texas</th>\n",
              "      <td>695662</td>\n",
              "      <td>26448193</td>\n",
              "      <td>38.018740</td>\n",
              "      <td>26448.0</td>\n",
              "    </tr>\n",
              "    <tr>\n",
              "      <th>New York</th>\n",
              "      <td>141297</td>\n",
              "      <td>19651127</td>\n",
              "      <td>139.076746</td>\n",
              "      <td>19651.0</td>\n",
              "    </tr>\n",
              "  </tbody>\n",
              "</table>\n",
              "</div>\n",
              "      <button class=\"colab-df-convert\" onclick=\"convertToInteractive('df-abe1863d-487c-43ac-996c-5089349fb752')\"\n",
              "              title=\"Convert this dataframe to an interactive table.\"\n",
              "              style=\"display:none;\">\n",
              "        \n",
              "  <svg xmlns=\"http://www.w3.org/2000/svg\" height=\"24px\"viewBox=\"0 0 24 24\"\n",
              "       width=\"24px\">\n",
              "    <path d=\"M0 0h24v24H0V0z\" fill=\"none\"/>\n",
              "    <path d=\"M18.56 5.44l.94 2.06.94-2.06 2.06-.94-2.06-.94-.94-2.06-.94 2.06-2.06.94zm-11 1L8.5 8.5l.94-2.06 2.06-.94-2.06-.94L8.5 2.5l-.94 2.06-2.06.94zm10 10l.94 2.06.94-2.06 2.06-.94-2.06-.94-.94-2.06-.94 2.06-2.06.94z\"/><path d=\"M17.41 7.96l-1.37-1.37c-.4-.4-.92-.59-1.43-.59-.52 0-1.04.2-1.43.59L10.3 9.45l-7.72 7.72c-.78.78-.78 2.05 0 2.83L4 21.41c.39.39.9.59 1.41.59.51 0 1.02-.2 1.41-.59l7.78-7.78 2.81-2.81c.8-.78.8-2.07 0-2.86zM5.41 20L4 18.59l7.72-7.72 1.47 1.35L5.41 20z\"/>\n",
              "  </svg>\n",
              "      </button>\n",
              "      \n",
              "  <style>\n",
              "    .colab-df-container {\n",
              "      display:flex;\n",
              "      flex-wrap:wrap;\n",
              "      gap: 12px;\n",
              "    }\n",
              "\n",
              "    .colab-df-convert {\n",
              "      background-color: #E8F0FE;\n",
              "      border: none;\n",
              "      border-radius: 50%;\n",
              "      cursor: pointer;\n",
              "      display: none;\n",
              "      fill: #1967D2;\n",
              "      height: 32px;\n",
              "      padding: 0 0 0 0;\n",
              "      width: 32px;\n",
              "    }\n",
              "\n",
              "    .colab-df-convert:hover {\n",
              "      background-color: #E2EBFA;\n",
              "      box-shadow: 0px 1px 2px rgba(60, 64, 67, 0.3), 0px 1px 3px 1px rgba(60, 64, 67, 0.15);\n",
              "      fill: #174EA6;\n",
              "    }\n",
              "\n",
              "    [theme=dark] .colab-df-convert {\n",
              "      background-color: #3B4455;\n",
              "      fill: #D2E3FC;\n",
              "    }\n",
              "\n",
              "    [theme=dark] .colab-df-convert:hover {\n",
              "      background-color: #434B5C;\n",
              "      box-shadow: 0px 1px 3px 1px rgba(0, 0, 0, 0.15);\n",
              "      filter: drop-shadow(0px 1px 2px rgba(0, 0, 0, 0.3));\n",
              "      fill: #FFFFFF;\n",
              "    }\n",
              "  </style>\n",
              "\n",
              "      <script>\n",
              "        const buttonEl =\n",
              "          document.querySelector('#df-abe1863d-487c-43ac-996c-5089349fb752 button.colab-df-convert');\n",
              "        buttonEl.style.display =\n",
              "          google.colab.kernel.accessAllowed ? 'block' : 'none';\n",
              "\n",
              "        async function convertToInteractive(key) {\n",
              "          const element = document.querySelector('#df-abe1863d-487c-43ac-996c-5089349fb752');\n",
              "          const dataTable =\n",
              "            await google.colab.kernel.invokeFunction('convertToInteractive',\n",
              "                                                     [key], {});\n",
              "          if (!dataTable) return;\n",
              "\n",
              "          const docLinkHtml = 'Like what you see? Visit the ' +\n",
              "            '<a target=\"_blank\" href=https://colab.research.google.com/notebooks/data_table.ipynb>data table notebook</a>'\n",
              "            + ' to learn more about interactive tables.';\n",
              "          element.innerHTML = '';\n",
              "          dataTable['output_type'] = 'display_data';\n",
              "          await google.colab.output.renderOutput(dataTable, element);\n",
              "          const docLink = document.createElement('div');\n",
              "          docLink.innerHTML = docLinkHtml;\n",
              "          element.appendChild(docLink);\n",
              "        }\n",
              "      </script>\n",
              "    </div>\n",
              "  </div>\n",
              "  "
            ]
          },
          "metadata": {},
          "execution_count": 39
        }
      ]
    },
    {
      "cell_type": "markdown",
      "source": [
        "* De maneira semelhante, por padrão, as operações de masking também são interpretadas no sentido das linhas:"
      ],
      "metadata": {
        "id": "Fdntb_iwmAGq"
      }
    },
    {
      "cell_type": "code",
      "source": [
        "data[data.density > 100]"
      ],
      "metadata": {
        "colab": {
          "base_uri": "https://localhost:8080/",
          "height": 112
        },
        "id": "xRtPwf9Jl-s0",
        "outputId": "753988db-3a71-4e6f-a882-00dbe7662e95"
      },
      "execution_count": 40,
      "outputs": [
        {
          "output_type": "execute_result",
          "data": {
            "text/plain": [
              "            area       pop     density    pop_k\n",
              "New York  141297  19651127  139.076746  19651.0\n",
              "Florida   170312  19552860  114.806121  19553.0"
            ],
            "text/html": [
              "\n",
              "  <div id=\"df-8cf526b8-ce80-47cf-bc73-afe7d8de4216\">\n",
              "    <div class=\"colab-df-container\">\n",
              "      <div>\n",
              "<style scoped>\n",
              "    .dataframe tbody tr th:only-of-type {\n",
              "        vertical-align: middle;\n",
              "    }\n",
              "\n",
              "    .dataframe tbody tr th {\n",
              "        vertical-align: top;\n",
              "    }\n",
              "\n",
              "    .dataframe thead th {\n",
              "        text-align: right;\n",
              "    }\n",
              "</style>\n",
              "<table border=\"1\" class=\"dataframe\">\n",
              "  <thead>\n",
              "    <tr style=\"text-align: right;\">\n",
              "      <th></th>\n",
              "      <th>area</th>\n",
              "      <th>pop</th>\n",
              "      <th>density</th>\n",
              "      <th>pop_k</th>\n",
              "    </tr>\n",
              "  </thead>\n",
              "  <tbody>\n",
              "    <tr>\n",
              "      <th>New York</th>\n",
              "      <td>141297</td>\n",
              "      <td>19651127</td>\n",
              "      <td>139.076746</td>\n",
              "      <td>19651.0</td>\n",
              "    </tr>\n",
              "    <tr>\n",
              "      <th>Florida</th>\n",
              "      <td>170312</td>\n",
              "      <td>19552860</td>\n",
              "      <td>114.806121</td>\n",
              "      <td>19553.0</td>\n",
              "    </tr>\n",
              "  </tbody>\n",
              "</table>\n",
              "</div>\n",
              "      <button class=\"colab-df-convert\" onclick=\"convertToInteractive('df-8cf526b8-ce80-47cf-bc73-afe7d8de4216')\"\n",
              "              title=\"Convert this dataframe to an interactive table.\"\n",
              "              style=\"display:none;\">\n",
              "        \n",
              "  <svg xmlns=\"http://www.w3.org/2000/svg\" height=\"24px\"viewBox=\"0 0 24 24\"\n",
              "       width=\"24px\">\n",
              "    <path d=\"M0 0h24v24H0V0z\" fill=\"none\"/>\n",
              "    <path d=\"M18.56 5.44l.94 2.06.94-2.06 2.06-.94-2.06-.94-.94-2.06-.94 2.06-2.06.94zm-11 1L8.5 8.5l.94-2.06 2.06-.94-2.06-.94L8.5 2.5l-.94 2.06-2.06.94zm10 10l.94 2.06.94-2.06 2.06-.94-2.06-.94-.94-2.06-.94 2.06-2.06.94z\"/><path d=\"M17.41 7.96l-1.37-1.37c-.4-.4-.92-.59-1.43-.59-.52 0-1.04.2-1.43.59L10.3 9.45l-7.72 7.72c-.78.78-.78 2.05 0 2.83L4 21.41c.39.39.9.59 1.41.59.51 0 1.02-.2 1.41-.59l7.78-7.78 2.81-2.81c.8-.78.8-2.07 0-2.86zM5.41 20L4 18.59l7.72-7.72 1.47 1.35L5.41 20z\"/>\n",
              "  </svg>\n",
              "      </button>\n",
              "      \n",
              "  <style>\n",
              "    .colab-df-container {\n",
              "      display:flex;\n",
              "      flex-wrap:wrap;\n",
              "      gap: 12px;\n",
              "    }\n",
              "\n",
              "    .colab-df-convert {\n",
              "      background-color: #E8F0FE;\n",
              "      border: none;\n",
              "      border-radius: 50%;\n",
              "      cursor: pointer;\n",
              "      display: none;\n",
              "      fill: #1967D2;\n",
              "      height: 32px;\n",
              "      padding: 0 0 0 0;\n",
              "      width: 32px;\n",
              "    }\n",
              "\n",
              "    .colab-df-convert:hover {\n",
              "      background-color: #E2EBFA;\n",
              "      box-shadow: 0px 1px 2px rgba(60, 64, 67, 0.3), 0px 1px 3px 1px rgba(60, 64, 67, 0.15);\n",
              "      fill: #174EA6;\n",
              "    }\n",
              "\n",
              "    [theme=dark] .colab-df-convert {\n",
              "      background-color: #3B4455;\n",
              "      fill: #D2E3FC;\n",
              "    }\n",
              "\n",
              "    [theme=dark] .colab-df-convert:hover {\n",
              "      background-color: #434B5C;\n",
              "      box-shadow: 0px 1px 3px 1px rgba(0, 0, 0, 0.15);\n",
              "      filter: drop-shadow(0px 1px 2px rgba(0, 0, 0, 0.3));\n",
              "      fill: #FFFFFF;\n",
              "    }\n",
              "  </style>\n",
              "\n",
              "      <script>\n",
              "        const buttonEl =\n",
              "          document.querySelector('#df-8cf526b8-ce80-47cf-bc73-afe7d8de4216 button.colab-df-convert');\n",
              "        buttonEl.style.display =\n",
              "          google.colab.kernel.accessAllowed ? 'block' : 'none';\n",
              "\n",
              "        async function convertToInteractive(key) {\n",
              "          const element = document.querySelector('#df-8cf526b8-ce80-47cf-bc73-afe7d8de4216');\n",
              "          const dataTable =\n",
              "            await google.colab.kernel.invokeFunction('convertToInteractive',\n",
              "                                                     [key], {});\n",
              "          if (!dataTable) return;\n",
              "\n",
              "          const docLinkHtml = 'Like what you see? Visit the ' +\n",
              "            '<a target=\"_blank\" href=https://colab.research.google.com/notebooks/data_table.ipynb>data table notebook</a>'\n",
              "            + ' to learn more about interactive tables.';\n",
              "          element.innerHTML = '';\n",
              "          dataTable['output_type'] = 'display_data';\n",
              "          await google.colab.output.renderOutput(dataTable, element);\n",
              "          const docLink = document.createElement('div');\n",
              "          docLink.innerHTML = docLinkHtml;\n",
              "          element.appendChild(docLink);\n",
              "        }\n",
              "      </script>\n",
              "    </div>\n",
              "  </div>\n",
              "  "
            ]
          },
          "metadata": {},
          "execution_count": 40
        }
      ]
    },
    {
      "cell_type": "markdown",
      "source": [
        "## Leitura de arquivos\n",
        "\n",
        "Até agora vimos a criação de `dataframes` a partir de valores escritos diretamente no código. Contudo, na maioria das vezes os `dataframes` serão criados a partir de dados externos.\n",
        "O Pandas é capaz de fazer a leitura de vários tipos de arquivos: \n",
        "* csv (comma separated values): arquivos txt que contém dados tabulares separados por vírgulas\n",
        "* tsv (tab separated values): idem ao caso acima, contudo o separador é o caracter 'tab'\n",
        "* xlsx: arquivos de excel\n",
        "* e vários outros. Experimente digitar 'pd.read' e depois 'tab'"
      ],
      "metadata": {
        "id": "xkCyYjHKmDUI"
      }
    },
    {
      "cell_type": "code",
      "source": [],
      "metadata": {
        "id": "3ImdRRaimCEA"
      },
      "execution_count": null,
      "outputs": []
    }
  ]
}